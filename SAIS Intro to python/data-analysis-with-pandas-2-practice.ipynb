{
 "cells": [
  {
   "attachments": {},
   "cell_type": "markdown",
   "id": "988fc37a",
   "metadata": {},
   "source": [
    "## 4. `pandas` Practice - Part 2\n",
    "\n",
    "#### Import `numpy` and `pandas`"
   ]
  },
  {
   "cell_type": "code",
   "execution_count": 1,
   "id": "f04e12ff",
   "metadata": {},
   "outputs": [],
   "source": [
    "import numpy as np\n",
    "import pandas as pd"
   ]
  },
  {
   "attachments": {},
   "cell_type": "markdown",
   "id": "6447cd23",
   "metadata": {},
   "source": [
    "#### Read in the `wdi_indicators` and `weo_report` datasets with `pd.read_csv()`"
   ]
  },
  {
   "cell_type": "code",
   "execution_count": 2,
   "id": "765e0d02",
   "metadata": {},
   "outputs": [],
   "source": [
    "wdi = pd.read_csv(\"wdi_indicators.csv\")\n",
    "weo = pd.read_csv(\"weo_1023.csv\")"
   ]
  },
  {
   "cell_type": "markdown",
   "id": "2617aa54",
   "metadata": {},
   "source": [
    "#### Check the top 5 observations of each dataset"
   ]
  },
  {
   "cell_type": "code",
   "execution_count": 3,
   "id": "ff37e7b0",
   "metadata": {
    "scrolled": true
   },
   "outputs": [
    {
     "data": {
      "text/html": [
       "<div>\n",
       "<style scoped>\n",
       "    .dataframe tbody tr th:only-of-type {\n",
       "        vertical-align: middle;\n",
       "    }\n",
       "\n",
       "    .dataframe tbody tr th {\n",
       "        vertical-align: top;\n",
       "    }\n",
       "\n",
       "    .dataframe thead th {\n",
       "        text-align: right;\n",
       "    }\n",
       "</style>\n",
       "<table border=\"1\" class=\"dataframe\">\n",
       "  <thead>\n",
       "    <tr style=\"text-align: right;\">\n",
       "      <th></th>\n",
       "      <th>country</th>\n",
       "      <th>region</th>\n",
       "      <th>income_group</th>\n",
       "    </tr>\n",
       "  </thead>\n",
       "  <tbody>\n",
       "    <tr>\n",
       "      <th>0</th>\n",
       "      <td>Afghanistan</td>\n",
       "      <td>South Asia</td>\n",
       "      <td>Low income</td>\n",
       "    </tr>\n",
       "    <tr>\n",
       "      <th>1</th>\n",
       "      <td>Albania</td>\n",
       "      <td>Europe &amp; Central Asia</td>\n",
       "      <td>Upper middle income</td>\n",
       "    </tr>\n",
       "    <tr>\n",
       "      <th>2</th>\n",
       "      <td>Algeria</td>\n",
       "      <td>Middle East &amp; North Africa</td>\n",
       "      <td>Upper middle income</td>\n",
       "    </tr>\n",
       "    <tr>\n",
       "      <th>3</th>\n",
       "      <td>American Samoa</td>\n",
       "      <td>East Asia &amp; Pacific</td>\n",
       "      <td>Upper middle income</td>\n",
       "    </tr>\n",
       "    <tr>\n",
       "      <th>4</th>\n",
       "      <td>Andorra</td>\n",
       "      <td>Europe &amp; Central Asia</td>\n",
       "      <td>High income</td>\n",
       "    </tr>\n",
       "  </tbody>\n",
       "</table>\n",
       "</div>"
      ],
      "text/plain": [
       "          country                      region         income_group\n",
       "0     Afghanistan                  South Asia           Low income\n",
       "1         Albania       Europe & Central Asia  Upper middle income\n",
       "2         Algeria  Middle East & North Africa  Upper middle income\n",
       "3  American Samoa         East Asia & Pacific  Upper middle income\n",
       "4         Andorra       Europe & Central Asia          High income"
      ]
     },
     "execution_count": 3,
     "metadata": {},
     "output_type": "execute_result"
    }
   ],
   "source": [
    "wdi.head()"
   ]
  },
  {
   "cell_type": "code",
   "execution_count": 4,
   "id": "7557cda7",
   "metadata": {},
   "outputs": [
    {
     "data": {
      "text/html": [
       "<div>\n",
       "<style scoped>\n",
       "    .dataframe tbody tr th:only-of-type {\n",
       "        vertical-align: middle;\n",
       "    }\n",
       "\n",
       "    .dataframe tbody tr th {\n",
       "        vertical-align: top;\n",
       "    }\n",
       "\n",
       "    .dataframe thead th {\n",
       "        text-align: right;\n",
       "    }\n",
       "</style>\n",
       "<table border=\"1\" class=\"dataframe\">\n",
       "  <thead>\n",
       "    <tr style=\"text-align: right;\">\n",
       "      <th></th>\n",
       "      <th>WEO Country Code</th>\n",
       "      <th>ISO</th>\n",
       "      <th>WEO Subject Code</th>\n",
       "      <th>Country</th>\n",
       "      <th>Subject Descriptor</th>\n",
       "      <th>Subject Notes</th>\n",
       "      <th>Units</th>\n",
       "      <th>Scale</th>\n",
       "      <th>Country/Series-specific Notes</th>\n",
       "      <th>1980</th>\n",
       "      <th>...</th>\n",
       "      <th>2020</th>\n",
       "      <th>2021</th>\n",
       "      <th>2022</th>\n",
       "      <th>2023</th>\n",
       "      <th>2024</th>\n",
       "      <th>2025</th>\n",
       "      <th>2026</th>\n",
       "      <th>2027</th>\n",
       "      <th>2028</th>\n",
       "      <th>Estimates Start After</th>\n",
       "    </tr>\n",
       "  </thead>\n",
       "  <tbody>\n",
       "    <tr>\n",
       "      <th>0</th>\n",
       "      <td>512</td>\n",
       "      <td>AFG</td>\n",
       "      <td>NGDP_R</td>\n",
       "      <td>Afghanistan</td>\n",
       "      <td>Gross domestic product, constant prices</td>\n",
       "      <td>Expressed in billions of national currency uni...</td>\n",
       "      <td>National currency</td>\n",
       "      <td>Billions</td>\n",
       "      <td>Source: National Statistics Office Latest actu...</td>\n",
       "      <td>NaN</td>\n",
       "      <td>...</td>\n",
       "      <td>1,288.87</td>\n",
       "      <td>1,021.60</td>\n",
       "      <td>NaN</td>\n",
       "      <td>NaN</td>\n",
       "      <td>NaN</td>\n",
       "      <td>NaN</td>\n",
       "      <td>NaN</td>\n",
       "      <td>NaN</td>\n",
       "      <td>NaN</td>\n",
       "      <td>2021.0</td>\n",
       "    </tr>\n",
       "    <tr>\n",
       "      <th>1</th>\n",
       "      <td>512</td>\n",
       "      <td>AFG</td>\n",
       "      <td>NGDP_RPCH</td>\n",
       "      <td>Afghanistan</td>\n",
       "      <td>Gross domestic product, constant prices</td>\n",
       "      <td>Annual percentages of constant price GDP are y...</td>\n",
       "      <td>Percent change</td>\n",
       "      <td>NaN</td>\n",
       "      <td>See notes for:  Gross domestic product, consta...</td>\n",
       "      <td>NaN</td>\n",
       "      <td>...</td>\n",
       "      <td>-2.351</td>\n",
       "      <td>-20.737</td>\n",
       "      <td>NaN</td>\n",
       "      <td>NaN</td>\n",
       "      <td>NaN</td>\n",
       "      <td>NaN</td>\n",
       "      <td>NaN</td>\n",
       "      <td>NaN</td>\n",
       "      <td>NaN</td>\n",
       "      <td>2021.0</td>\n",
       "    </tr>\n",
       "    <tr>\n",
       "      <th>2</th>\n",
       "      <td>512</td>\n",
       "      <td>AFG</td>\n",
       "      <td>NGDP</td>\n",
       "      <td>Afghanistan</td>\n",
       "      <td>Gross domestic product, current prices</td>\n",
       "      <td>Expressed in billions of national currency uni...</td>\n",
       "      <td>National currency</td>\n",
       "      <td>Billions</td>\n",
       "      <td>Source: National Statistics Office Latest actu...</td>\n",
       "      <td>NaN</td>\n",
       "      <td>...</td>\n",
       "      <td>1,547.29</td>\n",
       "      <td>1,232.86</td>\n",
       "      <td>NaN</td>\n",
       "      <td>NaN</td>\n",
       "      <td>NaN</td>\n",
       "      <td>NaN</td>\n",
       "      <td>NaN</td>\n",
       "      <td>NaN</td>\n",
       "      <td>NaN</td>\n",
       "      <td>2021.0</td>\n",
       "    </tr>\n",
       "    <tr>\n",
       "      <th>3</th>\n",
       "      <td>512</td>\n",
       "      <td>AFG</td>\n",
       "      <td>NGDPD</td>\n",
       "      <td>Afghanistan</td>\n",
       "      <td>Gross domestic product, current prices</td>\n",
       "      <td>Values are based upon GDP in national currency...</td>\n",
       "      <td>U.S. dollars</td>\n",
       "      <td>Billions</td>\n",
       "      <td>See notes for:  Gross domestic product, curren...</td>\n",
       "      <td>NaN</td>\n",
       "      <td>...</td>\n",
       "      <td>20.136</td>\n",
       "      <td>14.941</td>\n",
       "      <td>NaN</td>\n",
       "      <td>NaN</td>\n",
       "      <td>NaN</td>\n",
       "      <td>NaN</td>\n",
       "      <td>NaN</td>\n",
       "      <td>NaN</td>\n",
       "      <td>NaN</td>\n",
       "      <td>2021.0</td>\n",
       "    </tr>\n",
       "    <tr>\n",
       "      <th>4</th>\n",
       "      <td>512</td>\n",
       "      <td>AFG</td>\n",
       "      <td>PPPGDP</td>\n",
       "      <td>Afghanistan</td>\n",
       "      <td>Gross domestic product, current prices</td>\n",
       "      <td>These data form the basis for the country weig...</td>\n",
       "      <td>Purchasing power parity; international dollars</td>\n",
       "      <td>Billions</td>\n",
       "      <td>See notes for:  Gross domestic product, curren...</td>\n",
       "      <td>NaN</td>\n",
       "      <td>...</td>\n",
       "      <td>81.007</td>\n",
       "      <td>67.093</td>\n",
       "      <td>NaN</td>\n",
       "      <td>NaN</td>\n",
       "      <td>NaN</td>\n",
       "      <td>NaN</td>\n",
       "      <td>NaN</td>\n",
       "      <td>NaN</td>\n",
       "      <td>NaN</td>\n",
       "      <td>2021.0</td>\n",
       "    </tr>\n",
       "  </tbody>\n",
       "</table>\n",
       "<p>5 rows × 59 columns</p>\n",
       "</div>"
      ],
      "text/plain": [
       "  WEO Country Code  ISO WEO Subject Code      Country  \\\n",
       "0              512  AFG           NGDP_R  Afghanistan   \n",
       "1              512  AFG        NGDP_RPCH  Afghanistan   \n",
       "2              512  AFG             NGDP  Afghanistan   \n",
       "3              512  AFG            NGDPD  Afghanistan   \n",
       "4              512  AFG           PPPGDP  Afghanistan   \n",
       "\n",
       "                        Subject Descriptor  \\\n",
       "0  Gross domestic product, constant prices   \n",
       "1  Gross domestic product, constant prices   \n",
       "2   Gross domestic product, current prices   \n",
       "3   Gross domestic product, current prices   \n",
       "4   Gross domestic product, current prices   \n",
       "\n",
       "                                       Subject Notes  \\\n",
       "0  Expressed in billions of national currency uni...   \n",
       "1  Annual percentages of constant price GDP are y...   \n",
       "2  Expressed in billions of national currency uni...   \n",
       "3  Values are based upon GDP in national currency...   \n",
       "4  These data form the basis for the country weig...   \n",
       "\n",
       "                                            Units     Scale  \\\n",
       "0                               National currency  Billions   \n",
       "1                                  Percent change       NaN   \n",
       "2                               National currency  Billions   \n",
       "3                                    U.S. dollars  Billions   \n",
       "4  Purchasing power parity; international dollars  Billions   \n",
       "\n",
       "                       Country/Series-specific Notes 1980  ...      2020  \\\n",
       "0  Source: National Statistics Office Latest actu...  NaN  ...  1,288.87   \n",
       "1  See notes for:  Gross domestic product, consta...  NaN  ...    -2.351   \n",
       "2  Source: National Statistics Office Latest actu...  NaN  ...  1,547.29   \n",
       "3  See notes for:  Gross domestic product, curren...  NaN  ...    20.136   \n",
       "4  See notes for:  Gross domestic product, curren...  NaN  ...    81.007   \n",
       "\n",
       "       2021 2022 2023 2024 2025 2026 2027 2028 Estimates Start After  \n",
       "0  1,021.60  NaN  NaN  NaN  NaN  NaN  NaN  NaN                2021.0  \n",
       "1   -20.737  NaN  NaN  NaN  NaN  NaN  NaN  NaN                2021.0  \n",
       "2  1,232.86  NaN  NaN  NaN  NaN  NaN  NaN  NaN                2021.0  \n",
       "3    14.941  NaN  NaN  NaN  NaN  NaN  NaN  NaN                2021.0  \n",
       "4    67.093  NaN  NaN  NaN  NaN  NaN  NaN  NaN                2021.0  \n",
       "\n",
       "[5 rows x 59 columns]"
      ]
     },
     "execution_count": 4,
     "metadata": {},
     "output_type": "execute_result"
    }
   ],
   "source": [
    "weo.head()"
   ]
  },
  {
   "cell_type": "markdown",
   "id": "f08f37d4",
   "metadata": {},
   "source": [
    "#### Find out how many entries (rows) there are in the `weo` data (not just in the printout of the dataset)"
   ]
  },
  {
   "cell_type": "code",
   "execution_count": 5,
   "id": "d5a0c2a6",
   "metadata": {},
   "outputs": [
    {
     "data": {
      "text/plain": [
       "8626"
      ]
     },
     "execution_count": 5,
     "metadata": {},
     "output_type": "execute_result"
    }
   ],
   "source": [
    "weo.shape[0]"
   ]
  },
  {
   "cell_type": "markdown",
   "id": "6b36720c",
   "metadata": {},
   "source": [
    "#### How many unique Subject Descriptors are there in the dataset?"
   ]
  },
  {
   "cell_type": "code",
   "execution_count": 6,
   "id": "af66b62b",
   "metadata": {},
   "outputs": [
    {
     "data": {
      "text/plain": [
       "28"
      ]
     },
     "execution_count": 6,
     "metadata": {},
     "output_type": "execute_result"
    }
   ],
   "source": [
    "weo[\"Subject Descriptor\"].nunique()"
   ]
  },
  {
   "cell_type": "markdown",
   "id": "036c89ba",
   "metadata": {},
   "source": [
    "#### What is the median year estimates start after for data in this dataset"
   ]
  },
  {
   "cell_type": "code",
   "execution_count": 7,
   "id": "6db1e47a",
   "metadata": {},
   "outputs": [
    {
     "data": {
      "text/plain": [
       "2022.0"
      ]
     },
     "execution_count": 7,
     "metadata": {},
     "output_type": "execute_result"
    }
   ],
   "source": [
    "weo[\"Estimates Start After\"].median()"
   ]
  },
  {
   "cell_type": "markdown",
   "id": "11b0d788",
   "metadata": {},
   "source": [
    "#### Clean things up\n",
    "\n",
    "- For columns, drop/remove all columns except `Country`, `Subject Descriptor`, `Units`, and any year columns with at least 7,400 non-missing (not NA) values\n",
    "- For rows, keep only rows with the \"Gross domestic product per capita, current prices\", \"Inflation, average consumer prices\", and \"Unemployment rate\" `Subject Descriptor`s\n",
    "  + For \"Gross domestic product per capita, current prices\", keep only rows with the purchasing power parity units\n",
    "  + For \"Inflation, average consumer prices\", keep only rows with the percent change units\n",
    "- After all of the above filters are applied, remove the `Units` column"
   ]
  },
  {
   "cell_type": "code",
   "execution_count": 8,
   "id": "7348567a",
   "metadata": {},
   "outputs": [
    {
     "data": {
      "text/html": [
       "<div>\n",
       "<style scoped>\n",
       "    .dataframe tbody tr th:only-of-type {\n",
       "        vertical-align: middle;\n",
       "    }\n",
       "\n",
       "    .dataframe tbody tr th {\n",
       "        vertical-align: top;\n",
       "    }\n",
       "\n",
       "    .dataframe thead th {\n",
       "        text-align: right;\n",
       "    }\n",
       "</style>\n",
       "<table border=\"1\" class=\"dataframe\">\n",
       "  <thead>\n",
       "    <tr style=\"text-align: right;\">\n",
       "      <th></th>\n",
       "      <th>Country</th>\n",
       "      <th>Subject Descriptor</th>\n",
       "      <th>2004</th>\n",
       "      <th>2005</th>\n",
       "      <th>2006</th>\n",
       "      <th>2007</th>\n",
       "      <th>2008</th>\n",
       "      <th>2009</th>\n",
       "      <th>2010</th>\n",
       "      <th>2011</th>\n",
       "      <th>...</th>\n",
       "      <th>2015</th>\n",
       "      <th>2016</th>\n",
       "      <th>2017</th>\n",
       "      <th>2018</th>\n",
       "      <th>2019</th>\n",
       "      <th>2020</th>\n",
       "      <th>2021</th>\n",
       "      <th>2022</th>\n",
       "      <th>2023</th>\n",
       "      <th>2024</th>\n",
       "    </tr>\n",
       "  </thead>\n",
       "  <tbody>\n",
       "    <tr>\n",
       "      <th>10</th>\n",
       "      <td>Afghanistan</td>\n",
       "      <td>Gross domestic product per capita, current prices</td>\n",
       "      <td>1,113.15</td>\n",
       "      <td>1,240.38</td>\n",
       "      <td>1,306.71</td>\n",
       "      <td>1,464.72</td>\n",
       "      <td>1,512.00</td>\n",
       "      <td>1,788.40</td>\n",
       "      <td>1,908.19</td>\n",
       "      <td>2,010.83</td>\n",
       "      <td>...</td>\n",
       "      <td>2,534.92</td>\n",
       "      <td>2,400.62</td>\n",
       "      <td>2,515.55</td>\n",
       "      <td>2,449.94</td>\n",
       "      <td>2,543.14</td>\n",
       "      <td>2,459.20</td>\n",
       "      <td>1,990.99</td>\n",
       "      <td>NaN</td>\n",
       "      <td>NaN</td>\n",
       "      <td>NaN</td>\n",
       "    </tr>\n",
       "    <tr>\n",
       "      <th>17</th>\n",
       "      <td>Afghanistan</td>\n",
       "      <td>Inflation, average consumer prices</td>\n",
       "      <td>16.358</td>\n",
       "      <td>10.569</td>\n",
       "      <td>6.785</td>\n",
       "      <td>8.681</td>\n",
       "      <td>26.419</td>\n",
       "      <td>-6.811</td>\n",
       "      <td>2.179</td>\n",
       "      <td>11.804</td>\n",
       "      <td>...</td>\n",
       "      <td>-0.662</td>\n",
       "      <td>4.384</td>\n",
       "      <td>4.976</td>\n",
       "      <td>0.626</td>\n",
       "      <td>2.302</td>\n",
       "      <td>5.607</td>\n",
       "      <td>5.128</td>\n",
       "      <td>13.709</td>\n",
       "      <td>NaN</td>\n",
       "      <td>NaN</td>\n",
       "    </tr>\n",
       "    <tr>\n",
       "      <th>24</th>\n",
       "      <td>Afghanistan</td>\n",
       "      <td>Unemployment rate</td>\n",
       "      <td>NaN</td>\n",
       "      <td>NaN</td>\n",
       "      <td>NaN</td>\n",
       "      <td>NaN</td>\n",
       "      <td>NaN</td>\n",
       "      <td>NaN</td>\n",
       "      <td>NaN</td>\n",
       "      <td>NaN</td>\n",
       "      <td>...</td>\n",
       "      <td>NaN</td>\n",
       "      <td>NaN</td>\n",
       "      <td>NaN</td>\n",
       "      <td>NaN</td>\n",
       "      <td>NaN</td>\n",
       "      <td>NaN</td>\n",
       "      <td>NaN</td>\n",
       "      <td>NaN</td>\n",
       "      <td>NaN</td>\n",
       "      <td>NaN</td>\n",
       "    </tr>\n",
       "    <tr>\n",
       "      <th>54</th>\n",
       "      <td>Albania</td>\n",
       "      <td>Gross domestic product per capita, current prices</td>\n",
       "      <td>6,050.65</td>\n",
       "      <td>6,619.06</td>\n",
       "      <td>7,271.78</td>\n",
       "      <td>7,975.19</td>\n",
       "      <td>8,805.05</td>\n",
       "      <td>9,220.65</td>\n",
       "      <td>9,725.55</td>\n",
       "      <td>10,207.74</td>\n",
       "      <td>...</td>\n",
       "      <td>11,662.00</td>\n",
       "      <td>12,077.60</td>\n",
       "      <td>13,039.70</td>\n",
       "      <td>13,896.82</td>\n",
       "      <td>14,450.53</td>\n",
       "      <td>14,171.03</td>\n",
       "      <td>16,154.03</td>\n",
       "      <td>18,164.43</td>\n",
       "      <td>19,566.01</td>\n",
       "      <td>20,739.09</td>\n",
       "    </tr>\n",
       "    <tr>\n",
       "      <th>61</th>\n",
       "      <td>Albania</td>\n",
       "      <td>Inflation, average consumer prices</td>\n",
       "      <td>2.867</td>\n",
       "      <td>2.363</td>\n",
       "      <td>2.37</td>\n",
       "      <td>2.96</td>\n",
       "      <td>3.31</td>\n",
       "      <td>2.231</td>\n",
       "      <td>3.615</td>\n",
       "      <td>3.443</td>\n",
       "      <td>...</td>\n",
       "      <td>1.868</td>\n",
       "      <td>1.287</td>\n",
       "      <td>1.985</td>\n",
       "      <td>2.029</td>\n",
       "      <td>1.411</td>\n",
       "      <td>1.621</td>\n",
       "      <td>2.043</td>\n",
       "      <td>6.726</td>\n",
       "      <td>4.777</td>\n",
       "      <td>3.986</td>\n",
       "    </tr>\n",
       "    <tr>\n",
       "      <th>...</th>\n",
       "      <td>...</td>\n",
       "      <td>...</td>\n",
       "      <td>...</td>\n",
       "      <td>...</td>\n",
       "      <td>...</td>\n",
       "      <td>...</td>\n",
       "      <td>...</td>\n",
       "      <td>...</td>\n",
       "      <td>...</td>\n",
       "      <td>...</td>\n",
       "      <td>...</td>\n",
       "      <td>...</td>\n",
       "      <td>...</td>\n",
       "      <td>...</td>\n",
       "      <td>...</td>\n",
       "      <td>...</td>\n",
       "      <td>...</td>\n",
       "      <td>...</td>\n",
       "      <td>...</td>\n",
       "      <td>...</td>\n",
       "      <td>...</td>\n",
       "    </tr>\n",
       "    <tr>\n",
       "      <th>8553</th>\n",
       "      <td>Zambia</td>\n",
       "      <td>Inflation, average consumer prices</td>\n",
       "      <td>17.969</td>\n",
       "      <td>18.325</td>\n",
       "      <td>9.017</td>\n",
       "      <td>10.655</td>\n",
       "      <td>12.449</td>\n",
       "      <td>13.392</td>\n",
       "      <td>8.5</td>\n",
       "      <td>8.658</td>\n",
       "      <td>...</td>\n",
       "      <td>10.107</td>\n",
       "      <td>17.87</td>\n",
       "      <td>6.577</td>\n",
       "      <td>7.495</td>\n",
       "      <td>9.151</td>\n",
       "      <td>15.733</td>\n",
       "      <td>22.021</td>\n",
       "      <td>10.993</td>\n",
       "      <td>10.624</td>\n",
       "      <td>9.645</td>\n",
       "    </tr>\n",
       "    <tr>\n",
       "      <th>8560</th>\n",
       "      <td>Zambia</td>\n",
       "      <td>Unemployment rate</td>\n",
       "      <td>NaN</td>\n",
       "      <td>NaN</td>\n",
       "      <td>NaN</td>\n",
       "      <td>NaN</td>\n",
       "      <td>NaN</td>\n",
       "      <td>NaN</td>\n",
       "      <td>NaN</td>\n",
       "      <td>NaN</td>\n",
       "      <td>...</td>\n",
       "      <td>NaN</td>\n",
       "      <td>NaN</td>\n",
       "      <td>NaN</td>\n",
       "      <td>NaN</td>\n",
       "      <td>NaN</td>\n",
       "      <td>NaN</td>\n",
       "      <td>NaN</td>\n",
       "      <td>NaN</td>\n",
       "      <td>NaN</td>\n",
       "      <td>NaN</td>\n",
       "    </tr>\n",
       "    <tr>\n",
       "      <th>8590</th>\n",
       "      <td>Zimbabwe</td>\n",
       "      <td>Gross domestic product per capita, current prices</td>\n",
       "      <td>1,884.63</td>\n",
       "      <td>1,784.42</td>\n",
       "      <td>1,747.48</td>\n",
       "      <td>1,729.35</td>\n",
       "      <td>1,465.09</td>\n",
       "      <td>1,569.29</td>\n",
       "      <td>1,883.80</td>\n",
       "      <td>2,174.90</td>\n",
       "      <td>...</td>\n",
       "      <td>2,643.16</td>\n",
       "      <td>2,668.33</td>\n",
       "      <td>2,311.53</td>\n",
       "      <td>2,450.39</td>\n",
       "      <td>2,295.68</td>\n",
       "      <td>2,104.58</td>\n",
       "      <td>2,337.81</td>\n",
       "      <td>2,602.78</td>\n",
       "      <td>2,749.78</td>\n",
       "      <td>2,857.51</td>\n",
       "    </tr>\n",
       "    <tr>\n",
       "      <th>8597</th>\n",
       "      <td>Zimbabwe</td>\n",
       "      <td>Inflation, average consumer prices</td>\n",
       "      <td>113.569</td>\n",
       "      <td>-31.522</td>\n",
       "      <td>32.974</td>\n",
       "      <td>-72.729</td>\n",
       "      <td>156.964</td>\n",
       "      <td>6.216</td>\n",
       "      <td>3.045</td>\n",
       "      <td>3.47</td>\n",
       "      <td>...</td>\n",
       "      <td>-2.41</td>\n",
       "      <td>-1.558</td>\n",
       "      <td>0.907</td>\n",
       "      <td>10.607</td>\n",
       "      <td>255.292</td>\n",
       "      <td>557.21</td>\n",
       "      <td>98.546</td>\n",
       "      <td>193.399</td>\n",
       "      <td>314.501</td>\n",
       "      <td>222.399</td>\n",
       "    </tr>\n",
       "    <tr>\n",
       "      <th>8604</th>\n",
       "      <td>Zimbabwe</td>\n",
       "      <td>Unemployment rate</td>\n",
       "      <td>NaN</td>\n",
       "      <td>NaN</td>\n",
       "      <td>NaN</td>\n",
       "      <td>NaN</td>\n",
       "      <td>NaN</td>\n",
       "      <td>NaN</td>\n",
       "      <td>NaN</td>\n",
       "      <td>NaN</td>\n",
       "      <td>...</td>\n",
       "      <td>NaN</td>\n",
       "      <td>NaN</td>\n",
       "      <td>NaN</td>\n",
       "      <td>NaN</td>\n",
       "      <td>NaN</td>\n",
       "      <td>NaN</td>\n",
       "      <td>NaN</td>\n",
       "      <td>NaN</td>\n",
       "      <td>NaN</td>\n",
       "      <td>NaN</td>\n",
       "    </tr>\n",
       "  </tbody>\n",
       "</table>\n",
       "<p>588 rows × 23 columns</p>\n",
       "</div>"
      ],
      "text/plain": [
       "          Country                                 Subject Descriptor  \\\n",
       "10    Afghanistan  Gross domestic product per capita, current prices   \n",
       "17    Afghanistan                 Inflation, average consumer prices   \n",
       "24    Afghanistan                                  Unemployment rate   \n",
       "54        Albania  Gross domestic product per capita, current prices   \n",
       "61        Albania                 Inflation, average consumer prices   \n",
       "...           ...                                                ...   \n",
       "8553       Zambia                 Inflation, average consumer prices   \n",
       "8560       Zambia                                  Unemployment rate   \n",
       "8590     Zimbabwe  Gross domestic product per capita, current prices   \n",
       "8597     Zimbabwe                 Inflation, average consumer prices   \n",
       "8604     Zimbabwe                                  Unemployment rate   \n",
       "\n",
       "          2004      2005      2006      2007      2008      2009      2010  \\\n",
       "10    1,113.15  1,240.38  1,306.71  1,464.72  1,512.00  1,788.40  1,908.19   \n",
       "17      16.358    10.569     6.785     8.681    26.419    -6.811     2.179   \n",
       "24         NaN       NaN       NaN       NaN       NaN       NaN       NaN   \n",
       "54    6,050.65  6,619.06  7,271.78  7,975.19  8,805.05  9,220.65  9,725.55   \n",
       "61       2.867     2.363      2.37      2.96      3.31     2.231     3.615   \n",
       "...        ...       ...       ...       ...       ...       ...       ...   \n",
       "8553    17.969    18.325     9.017    10.655    12.449    13.392       8.5   \n",
       "8560       NaN       NaN       NaN       NaN       NaN       NaN       NaN   \n",
       "8590  1,884.63  1,784.42  1,747.48  1,729.35  1,465.09  1,569.29  1,883.80   \n",
       "8597   113.569   -31.522    32.974   -72.729   156.964     6.216     3.045   \n",
       "8604       NaN       NaN       NaN       NaN       NaN       NaN       NaN   \n",
       "\n",
       "           2011  ...       2015       2016       2017       2018       2019  \\\n",
       "10     2,010.83  ...   2,534.92   2,400.62   2,515.55   2,449.94   2,543.14   \n",
       "17       11.804  ...     -0.662      4.384      4.976      0.626      2.302   \n",
       "24          NaN  ...        NaN        NaN        NaN        NaN        NaN   \n",
       "54    10,207.74  ...  11,662.00  12,077.60  13,039.70  13,896.82  14,450.53   \n",
       "61        3.443  ...      1.868      1.287      1.985      2.029      1.411   \n",
       "...         ...  ...        ...        ...        ...        ...        ...   \n",
       "8553      8.658  ...     10.107      17.87      6.577      7.495      9.151   \n",
       "8560        NaN  ...        NaN        NaN        NaN        NaN        NaN   \n",
       "8590   2,174.90  ...   2,643.16   2,668.33   2,311.53   2,450.39   2,295.68   \n",
       "8597       3.47  ...      -2.41     -1.558      0.907     10.607    255.292   \n",
       "8604        NaN  ...        NaN        NaN        NaN        NaN        NaN   \n",
       "\n",
       "           2020       2021       2022       2023       2024  \n",
       "10     2,459.20   1,990.99        NaN        NaN        NaN  \n",
       "17        5.607      5.128     13.709        NaN        NaN  \n",
       "24          NaN        NaN        NaN        NaN        NaN  \n",
       "54    14,171.03  16,154.03  18,164.43  19,566.01  20,739.09  \n",
       "61        1.621      2.043      6.726      4.777      3.986  \n",
       "...         ...        ...        ...        ...        ...  \n",
       "8553     15.733     22.021     10.993     10.624      9.645  \n",
       "8560        NaN        NaN        NaN        NaN        NaN  \n",
       "8590   2,104.58   2,337.81   2,602.78   2,749.78   2,857.51  \n",
       "8597     557.21     98.546    193.399    314.501    222.399  \n",
       "8604        NaN        NaN        NaN        NaN        NaN  \n",
       "\n",
       "[588 rows x 23 columns]"
      ]
     },
     "execution_count": 8,
     "metadata": {},
     "output_type": "execute_result"
    }
   ],
   "source": [
    "weo_new = weo.drop(['WEO Country Code','ISO','WEO Subject Code','Subject Notes','Scale','Country/Series-specific Notes','Estimates Start After'],axis=1)\n",
    "weo_new = weo_new.dropna(axis=1,thresh=7400)\n",
    "weo_new = weo_new.loc[(weo_new[\"Subject Descriptor\"] == \"Gross domestic product per capita, current prices\") | (weo_new[\"Subject Descriptor\"] == \"Inflation, average consumer prices\")|(weo_new[\"Subject Descriptor\"] == \"Unemployment rate\") ]\n",
    "weo_new = weo_new.loc[(weo_new[\"Units\"] == \"Purchasing power parity; international dollars\") | (weo_new[\"Units\"] == \"Percent change\")|(weo_new[\"Units\"] == \"Percent of total labor force\")]\n",
    "weo_new = weo_new.drop('Units',axis=1)\n",
    "weo_new"
   ]
  },
  {
   "cell_type": "markdown",
   "id": "34f320e2",
   "metadata": {},
   "source": [
    "### Tidy the \"raw\" WEO report data\n",
    "\n",
    "#### Use `melt` to transform the weo report data into a long 4-column data set"
   ]
  },
  {
   "cell_type": "code",
   "execution_count": 9,
   "id": "c8842110",
   "metadata": {},
   "outputs": [
    {
     "data": {
      "text/html": [
       "<div>\n",
       "<style scoped>\n",
       "    .dataframe tbody tr th:only-of-type {\n",
       "        vertical-align: middle;\n",
       "    }\n",
       "\n",
       "    .dataframe tbody tr th {\n",
       "        vertical-align: top;\n",
       "    }\n",
       "\n",
       "    .dataframe thead th {\n",
       "        text-align: right;\n",
       "    }\n",
       "</style>\n",
       "<table border=\"1\" class=\"dataframe\">\n",
       "  <thead>\n",
       "    <tr style=\"text-align: right;\">\n",
       "      <th></th>\n",
       "      <th>Country</th>\n",
       "      <th>Subject Descriptor</th>\n",
       "      <th>Year</th>\n",
       "      <th>value</th>\n",
       "    </tr>\n",
       "  </thead>\n",
       "  <tbody>\n",
       "    <tr>\n",
       "      <th>0</th>\n",
       "      <td>Afghanistan</td>\n",
       "      <td>Gross domestic product per capita, current prices</td>\n",
       "      <td>2004</td>\n",
       "      <td>1,113.15</td>\n",
       "    </tr>\n",
       "    <tr>\n",
       "      <th>1</th>\n",
       "      <td>Afghanistan</td>\n",
       "      <td>Inflation, average consumer prices</td>\n",
       "      <td>2004</td>\n",
       "      <td>16.358</td>\n",
       "    </tr>\n",
       "    <tr>\n",
       "      <th>2</th>\n",
       "      <td>Afghanistan</td>\n",
       "      <td>Unemployment rate</td>\n",
       "      <td>2004</td>\n",
       "      <td>NaN</td>\n",
       "    </tr>\n",
       "    <tr>\n",
       "      <th>3</th>\n",
       "      <td>Albania</td>\n",
       "      <td>Gross domestic product per capita, current prices</td>\n",
       "      <td>2004</td>\n",
       "      <td>6,050.65</td>\n",
       "    </tr>\n",
       "    <tr>\n",
       "      <th>4</th>\n",
       "      <td>Albania</td>\n",
       "      <td>Inflation, average consumer prices</td>\n",
       "      <td>2004</td>\n",
       "      <td>2.867</td>\n",
       "    </tr>\n",
       "  </tbody>\n",
       "</table>\n",
       "</div>"
      ],
      "text/plain": [
       "       Country                                 Subject Descriptor  Year  \\\n",
       "0  Afghanistan  Gross domestic product per capita, current prices  2004   \n",
       "1  Afghanistan                 Inflation, average consumer prices  2004   \n",
       "2  Afghanistan                                  Unemployment rate  2004   \n",
       "3      Albania  Gross domestic product per capita, current prices  2004   \n",
       "4      Albania                 Inflation, average consumer prices  2004   \n",
       "\n",
       "      value  \n",
       "0  1,113.15  \n",
       "1    16.358  \n",
       "2       NaN  \n",
       "3  6,050.65  \n",
       "4     2.867  "
      ]
     },
     "execution_count": 9,
     "metadata": {},
     "output_type": "execute_result"
    }
   ],
   "source": [
    "weo_long = weo_new.melt(\n",
    "    id_vars = ['Country','Subject Descriptor'],\n",
    "    var_name='Year',\n",
    "    value_name='value' \n",
    ")\n",
    "weo_long.head()"
   ]
  },
  {
   "cell_type": "markdown",
   "id": "a9d6658c",
   "metadata": {},
   "source": [
    "#### Fix the data type of the `value` column\n",
    "\n",
    "At this point, the `value` column is of the `object` datatype! This will create problems later on. In order to ensure it is the correct data type for our calculations downstream:\n",
    "- Remove the commas from all the values in the `value` column\n",
    "- Convert the column to the `float` data type using the `astype(float)` method"
   ]
  },
  {
   "cell_type": "code",
   "execution_count": 10,
   "id": "cb0f6612",
   "metadata": {},
   "outputs": [
    {
     "data": {
      "text/plain": [
       "dtype('O')"
      ]
     },
     "execution_count": 10,
     "metadata": {},
     "output_type": "execute_result"
    }
   ],
   "source": [
    "weo_long[\"value\"].dtype"
   ]
  },
  {
   "cell_type": "code",
   "execution_count": 11,
   "id": "5a36dc1a",
   "metadata": {},
   "outputs": [
    {
     "name": "stdout",
     "output_type": "stream",
     "text": [
      "<class 'pandas.core.frame.DataFrame'>\n",
      "RangeIndex: 12348 entries, 0 to 12347\n",
      "Data columns (total 4 columns):\n",
      " #   Column              Non-Null Count  Dtype  \n",
      "---  ------              --------------  -----  \n",
      " 0   Country             12348 non-null  object \n",
      " 1   Subject Descriptor  12348 non-null  object \n",
      " 2   Year                12348 non-null  object \n",
      " 3   value               10428 non-null  float64\n",
      "dtypes: float64(1), object(3)\n",
      "memory usage: 386.0+ KB\n"
     ]
    }
   ],
   "source": [
    "weo_long[\"value\"] = weo_long[\"value\"].replace(',','', regex=True)\n",
    "weo_long[\"value\"] = weo_long[\"value\"].astype(float)\n",
    "weo_long.info()"
   ]
  },
  {
   "cell_type": "markdown",
   "id": "42a1f3dd",
   "metadata": {},
   "source": [
    "#### Use `pivot` to create a 5-column data set with columns for:\n",
    "- Country\n",
    "- Year\n",
    "- GDP per capita\n",
    "- Unemployment rate\n",
    "- Inflation\n",
    "    \n",
    "(Note that you will want to reset the index of the final result with `.reset_index()`)"
   ]
  },
  {
   "cell_type": "code",
   "execution_count": 12,
   "id": "6ee2f57d",
   "metadata": {},
   "outputs": [
    {
     "data": {
      "text/html": [
       "<div>\n",
       "<style scoped>\n",
       "    .dataframe tbody tr th:only-of-type {\n",
       "        vertical-align: middle;\n",
       "    }\n",
       "\n",
       "    .dataframe tbody tr th {\n",
       "        vertical-align: top;\n",
       "    }\n",
       "\n",
       "    .dataframe thead th {\n",
       "        text-align: right;\n",
       "    }\n",
       "</style>\n",
       "<table border=\"1\" class=\"dataframe\">\n",
       "  <thead>\n",
       "    <tr style=\"text-align: right;\">\n",
       "      <th>Subject Descriptor</th>\n",
       "      <th>Country</th>\n",
       "      <th>Year</th>\n",
       "      <th>Gross domestic product per capita, current prices</th>\n",
       "      <th>Inflation, average consumer prices</th>\n",
       "      <th>Unemployment rate</th>\n",
       "    </tr>\n",
       "  </thead>\n",
       "  <tbody>\n",
       "    <tr>\n",
       "      <th>0</th>\n",
       "      <td>Afghanistan</td>\n",
       "      <td>2004</td>\n",
       "      <td>1113.15</td>\n",
       "      <td>16.358</td>\n",
       "      <td>NaN</td>\n",
       "    </tr>\n",
       "    <tr>\n",
       "      <th>1</th>\n",
       "      <td>Afghanistan</td>\n",
       "      <td>2005</td>\n",
       "      <td>1240.38</td>\n",
       "      <td>10.569</td>\n",
       "      <td>NaN</td>\n",
       "    </tr>\n",
       "    <tr>\n",
       "      <th>2</th>\n",
       "      <td>Afghanistan</td>\n",
       "      <td>2006</td>\n",
       "      <td>1306.71</td>\n",
       "      <td>6.785</td>\n",
       "      <td>NaN</td>\n",
       "    </tr>\n",
       "    <tr>\n",
       "      <th>3</th>\n",
       "      <td>Afghanistan</td>\n",
       "      <td>2007</td>\n",
       "      <td>1464.72</td>\n",
       "      <td>8.681</td>\n",
       "      <td>NaN</td>\n",
       "    </tr>\n",
       "    <tr>\n",
       "      <th>4</th>\n",
       "      <td>Afghanistan</td>\n",
       "      <td>2008</td>\n",
       "      <td>1512.00</td>\n",
       "      <td>26.419</td>\n",
       "      <td>NaN</td>\n",
       "    </tr>\n",
       "  </tbody>\n",
       "</table>\n",
       "</div>"
      ],
      "text/plain": [
       "Subject Descriptor      Country  Year  \\\n",
       "0                   Afghanistan  2004   \n",
       "1                   Afghanistan  2005   \n",
       "2                   Afghanistan  2006   \n",
       "3                   Afghanistan  2007   \n",
       "4                   Afghanistan  2008   \n",
       "\n",
       "Subject Descriptor  Gross domestic product per capita, current prices  \\\n",
       "0                                                             1113.15   \n",
       "1                                                             1240.38   \n",
       "2                                                             1306.71   \n",
       "3                                                             1464.72   \n",
       "4                                                             1512.00   \n",
       "\n",
       "Subject Descriptor  Inflation, average consumer prices  Unemployment rate  \n",
       "0                                               16.358                NaN  \n",
       "1                                               10.569                NaN  \n",
       "2                                                6.785                NaN  \n",
       "3                                                8.681                NaN  \n",
       "4                                               26.419                NaN  "
      ]
     },
     "execution_count": 12,
     "metadata": {},
     "output_type": "execute_result"
    }
   ],
   "source": [
    "weo_long2 = weo_long.pivot(values = 'value', index=['Country','Year'], columns = 'Subject Descriptor').reset_index()\n",
    "weo_long2.head()"
   ]
  },
  {
   "cell_type": "markdown",
   "id": "647b4abe",
   "metadata": {},
   "source": [
    "#### Convert the column with years in it to dates (*Hint*: use `pd.to_datetime` with the format string `\"%Y\"`)"
   ]
  },
  {
   "cell_type": "code",
   "execution_count": 13,
   "id": "c1cfe728",
   "metadata": {},
   "outputs": [
    {
     "data": {
      "text/html": [
       "<div>\n",
       "<style scoped>\n",
       "    .dataframe tbody tr th:only-of-type {\n",
       "        vertical-align: middle;\n",
       "    }\n",
       "\n",
       "    .dataframe tbody tr th {\n",
       "        vertical-align: top;\n",
       "    }\n",
       "\n",
       "    .dataframe thead th {\n",
       "        text-align: right;\n",
       "    }\n",
       "</style>\n",
       "<table border=\"1\" class=\"dataframe\">\n",
       "  <thead>\n",
       "    <tr style=\"text-align: right;\">\n",
       "      <th>Subject Descriptor</th>\n",
       "      <th>Country</th>\n",
       "      <th>Year</th>\n",
       "      <th>Gross domestic product per capita, current prices</th>\n",
       "      <th>Inflation, average consumer prices</th>\n",
       "      <th>Unemployment rate</th>\n",
       "    </tr>\n",
       "  </thead>\n",
       "  <tbody>\n",
       "    <tr>\n",
       "      <th>0</th>\n",
       "      <td>Afghanistan</td>\n",
       "      <td>2004-01-01</td>\n",
       "      <td>1113.15</td>\n",
       "      <td>16.358</td>\n",
       "      <td>NaN</td>\n",
       "    </tr>\n",
       "    <tr>\n",
       "      <th>1</th>\n",
       "      <td>Afghanistan</td>\n",
       "      <td>2005-01-01</td>\n",
       "      <td>1240.38</td>\n",
       "      <td>10.569</td>\n",
       "      <td>NaN</td>\n",
       "    </tr>\n",
       "    <tr>\n",
       "      <th>2</th>\n",
       "      <td>Afghanistan</td>\n",
       "      <td>2006-01-01</td>\n",
       "      <td>1306.71</td>\n",
       "      <td>6.785</td>\n",
       "      <td>NaN</td>\n",
       "    </tr>\n",
       "    <tr>\n",
       "      <th>3</th>\n",
       "      <td>Afghanistan</td>\n",
       "      <td>2007-01-01</td>\n",
       "      <td>1464.72</td>\n",
       "      <td>8.681</td>\n",
       "      <td>NaN</td>\n",
       "    </tr>\n",
       "    <tr>\n",
       "      <th>4</th>\n",
       "      <td>Afghanistan</td>\n",
       "      <td>2008-01-01</td>\n",
       "      <td>1512.00</td>\n",
       "      <td>26.419</td>\n",
       "      <td>NaN</td>\n",
       "    </tr>\n",
       "  </tbody>\n",
       "</table>\n",
       "</div>"
      ],
      "text/plain": [
       "Subject Descriptor      Country       Year  \\\n",
       "0                   Afghanistan 2004-01-01   \n",
       "1                   Afghanistan 2005-01-01   \n",
       "2                   Afghanistan 2006-01-01   \n",
       "3                   Afghanistan 2007-01-01   \n",
       "4                   Afghanistan 2008-01-01   \n",
       "\n",
       "Subject Descriptor  Gross domestic product per capita, current prices  \\\n",
       "0                                                             1113.15   \n",
       "1                                                             1240.38   \n",
       "2                                                             1306.71   \n",
       "3                                                             1464.72   \n",
       "4                                                             1512.00   \n",
       "\n",
       "Subject Descriptor  Inflation, average consumer prices  Unemployment rate  \n",
       "0                                               16.358                NaN  \n",
       "1                                               10.569                NaN  \n",
       "2                                                6.785                NaN  \n",
       "3                                                8.681                NaN  \n",
       "4                                               26.419                NaN  "
      ]
     },
     "execution_count": 13,
     "metadata": {},
     "output_type": "execute_result"
    }
   ],
   "source": [
    "weo_long2['Year'] = pd.to_datetime(weo_long2['Year'],format='%Y')\n",
    "weo_long2.head()"
   ]
  },
  {
   "cell_type": "markdown",
   "id": "972406bc",
   "metadata": {},
   "source": [
    "#### Rename the variable columns with simpler names"
   ]
  },
  {
   "cell_type": "code",
   "execution_count": 14,
   "id": "729c9b38",
   "metadata": {},
   "outputs": [
    {
     "data": {
      "text/html": [
       "<div>\n",
       "<style scoped>\n",
       "    .dataframe tbody tr th:only-of-type {\n",
       "        vertical-align: middle;\n",
       "    }\n",
       "\n",
       "    .dataframe tbody tr th {\n",
       "        vertical-align: top;\n",
       "    }\n",
       "\n",
       "    .dataframe thead th {\n",
       "        text-align: right;\n",
       "    }\n",
       "</style>\n",
       "<table border=\"1\" class=\"dataframe\">\n",
       "  <thead>\n",
       "    <tr style=\"text-align: right;\">\n",
       "      <th></th>\n",
       "      <th>Country</th>\n",
       "      <th>Year</th>\n",
       "      <th>gdp_pc</th>\n",
       "      <th>inflation</th>\n",
       "      <th>unemployment</th>\n",
       "    </tr>\n",
       "  </thead>\n",
       "  <tbody>\n",
       "    <tr>\n",
       "      <th>0</th>\n",
       "      <td>Afghanistan</td>\n",
       "      <td>2004-01-01</td>\n",
       "      <td>1113.15</td>\n",
       "      <td>16.358</td>\n",
       "      <td>NaN</td>\n",
       "    </tr>\n",
       "    <tr>\n",
       "      <th>1</th>\n",
       "      <td>Afghanistan</td>\n",
       "      <td>2005-01-01</td>\n",
       "      <td>1240.38</td>\n",
       "      <td>10.569</td>\n",
       "      <td>NaN</td>\n",
       "    </tr>\n",
       "    <tr>\n",
       "      <th>2</th>\n",
       "      <td>Afghanistan</td>\n",
       "      <td>2006-01-01</td>\n",
       "      <td>1306.71</td>\n",
       "      <td>6.785</td>\n",
       "      <td>NaN</td>\n",
       "    </tr>\n",
       "    <tr>\n",
       "      <th>3</th>\n",
       "      <td>Afghanistan</td>\n",
       "      <td>2007-01-01</td>\n",
       "      <td>1464.72</td>\n",
       "      <td>8.681</td>\n",
       "      <td>NaN</td>\n",
       "    </tr>\n",
       "    <tr>\n",
       "      <th>4</th>\n",
       "      <td>Afghanistan</td>\n",
       "      <td>2008-01-01</td>\n",
       "      <td>1512.00</td>\n",
       "      <td>26.419</td>\n",
       "      <td>NaN</td>\n",
       "    </tr>\n",
       "  </tbody>\n",
       "</table>\n",
       "</div>"
      ],
      "text/plain": [
       "       Country       Year   gdp_pc  inflation  unemployment\n",
       "0  Afghanistan 2004-01-01  1113.15     16.358           NaN\n",
       "1  Afghanistan 2005-01-01  1240.38     10.569           NaN\n",
       "2  Afghanistan 2006-01-01  1306.71      6.785           NaN\n",
       "3  Afghanistan 2007-01-01  1464.72      8.681           NaN\n",
       "4  Afghanistan 2008-01-01  1512.00     26.419           NaN"
      ]
     },
     "execution_count": 14,
     "metadata": {},
     "output_type": "execute_result"
    }
   ],
   "source": [
    "weo_long2 = weo_long2.rename(\n",
    "    {\n",
    "        \"Gross domestic product per capita, current prices\": \"gdp_pc\",\n",
    "        \"Inflation, average consumer prices\": \"inflation\",\n",
    "        \"Unemployment rate\": \"unemployment\",\n",
    "    },\n",
    "    axis=1\n",
    ")\n",
    "weo_long3 = weo_long2.rename_axis(None, axis=1).reset_index(drop=True)\n",
    "weo_long3.head()"
   ]
  },
  {
   "cell_type": "markdown",
   "id": "02374cb3",
   "metadata": {},
   "source": [
    "#### How many countries are reported in this dataset after filtering?"
   ]
  },
  {
   "cell_type": "code",
   "execution_count": 15,
   "id": "2a8c26a5",
   "metadata": {},
   "outputs": [
    {
     "data": {
      "text/plain": [
       "196"
      ]
     },
     "execution_count": 15,
     "metadata": {},
     "output_type": "execute_result"
    }
   ],
   "source": [
    "weo_long3[\"Country\"].nunique()"
   ]
  },
  {
   "cell_type": "markdown",
   "id": "4390d60c",
   "metadata": {},
   "source": [
    "#### How many years are reported in this dataset after filtering? What's the earliest? Most recent?"
   ]
  },
  {
   "cell_type": "code",
   "execution_count": 16,
   "id": "2c755259",
   "metadata": {},
   "outputs": [
    {
     "data": {
      "text/plain": [
       "21"
      ]
     },
     "execution_count": 16,
     "metadata": {},
     "output_type": "execute_result"
    }
   ],
   "source": [
    "weo_long3[\"Year\"].nunique()"
   ]
  },
  {
   "cell_type": "code",
   "execution_count": 17,
   "id": "9a515d48",
   "metadata": {},
   "outputs": [
    {
     "data": {
      "text/plain": [
       "Timestamp('2004-01-01 00:00:00')"
      ]
     },
     "execution_count": 17,
     "metadata": {},
     "output_type": "execute_result"
    }
   ],
   "source": [
    "weo_long3[\"Year\"].min()"
   ]
  },
  {
   "cell_type": "code",
   "execution_count": 18,
   "id": "70c442ec",
   "metadata": {},
   "outputs": [
    {
     "data": {
      "text/plain": [
       "Timestamp('2024-01-01 00:00:00')"
      ]
     },
     "execution_count": 18,
     "metadata": {},
     "output_type": "execute_result"
    }
   ],
   "source": [
    "weo_long3[\"Year\"].max()"
   ]
  },
  {
   "cell_type": "markdown",
   "id": "354695ef",
   "metadata": {},
   "source": [
    "#### Report a filtered view of the dataset with only observations from 2015"
   ]
  },
  {
   "cell_type": "code",
   "execution_count": 19,
   "id": "f6702429",
   "metadata": {},
   "outputs": [
    {
     "data": {
      "text/html": [
       "<div>\n",
       "<style scoped>\n",
       "    .dataframe tbody tr th:only-of-type {\n",
       "        vertical-align: middle;\n",
       "    }\n",
       "\n",
       "    .dataframe tbody tr th {\n",
       "        vertical-align: top;\n",
       "    }\n",
       "\n",
       "    .dataframe thead th {\n",
       "        text-align: right;\n",
       "    }\n",
       "</style>\n",
       "<table border=\"1\" class=\"dataframe\">\n",
       "  <thead>\n",
       "    <tr style=\"text-align: right;\">\n",
       "      <th></th>\n",
       "      <th>Country</th>\n",
       "      <th>Year</th>\n",
       "      <th>gdp_pc</th>\n",
       "      <th>inflation</th>\n",
       "      <th>unemployment</th>\n",
       "    </tr>\n",
       "  </thead>\n",
       "  <tbody>\n",
       "    <tr>\n",
       "      <th>11</th>\n",
       "      <td>Afghanistan</td>\n",
       "      <td>2015-01-01</td>\n",
       "      <td>2534.92</td>\n",
       "      <td>-0.662</td>\n",
       "      <td>NaN</td>\n",
       "    </tr>\n",
       "    <tr>\n",
       "      <th>32</th>\n",
       "      <td>Albania</td>\n",
       "      <td>2015-01-01</td>\n",
       "      <td>11662.00</td>\n",
       "      <td>1.868</td>\n",
       "      <td>17.100</td>\n",
       "    </tr>\n",
       "    <tr>\n",
       "      <th>53</th>\n",
       "      <td>Algeria</td>\n",
       "      <td>2015-01-01</td>\n",
       "      <td>11944.99</td>\n",
       "      <td>4.784</td>\n",
       "      <td>11.214</td>\n",
       "    </tr>\n",
       "    <tr>\n",
       "      <th>74</th>\n",
       "      <td>Andorra</td>\n",
       "      <td>2015-01-01</td>\n",
       "      <td>52747.89</td>\n",
       "      <td>-1.132</td>\n",
       "      <td>3.575</td>\n",
       "    </tr>\n",
       "    <tr>\n",
       "      <th>95</th>\n",
       "      <td>Angola</td>\n",
       "      <td>2015-01-01</td>\n",
       "      <td>7274.09</td>\n",
       "      <td>9.159</td>\n",
       "      <td>NaN</td>\n",
       "    </tr>\n",
       "    <tr>\n",
       "      <th>...</th>\n",
       "      <td>...</td>\n",
       "      <td>...</td>\n",
       "      <td>...</td>\n",
       "      <td>...</td>\n",
       "      <td>...</td>\n",
       "    </tr>\n",
       "    <tr>\n",
       "      <th>4022</th>\n",
       "      <td>Vietnam</td>\n",
       "      <td>2015-01-01</td>\n",
       "      <td>7635.28</td>\n",
       "      <td>0.631</td>\n",
       "      <td>2.330</td>\n",
       "    </tr>\n",
       "    <tr>\n",
       "      <th>4043</th>\n",
       "      <td>West Bank and Gaza</td>\n",
       "      <td>2015-01-01</td>\n",
       "      <td>5612.25</td>\n",
       "      <td>1.431</td>\n",
       "      <td>25.900</td>\n",
       "    </tr>\n",
       "    <tr>\n",
       "      <th>4064</th>\n",
       "      <td>Yemen</td>\n",
       "      <td>2015-01-01</td>\n",
       "      <td>2437.50</td>\n",
       "      <td>22.000</td>\n",
       "      <td>NaN</td>\n",
       "    </tr>\n",
       "    <tr>\n",
       "      <th>4085</th>\n",
       "      <td>Zambia</td>\n",
       "      <td>2015-01-01</td>\n",
       "      <td>3352.53</td>\n",
       "      <td>10.107</td>\n",
       "      <td>NaN</td>\n",
       "    </tr>\n",
       "    <tr>\n",
       "      <th>4106</th>\n",
       "      <td>Zimbabwe</td>\n",
       "      <td>2015-01-01</td>\n",
       "      <td>2643.16</td>\n",
       "      <td>-2.410</td>\n",
       "      <td>NaN</td>\n",
       "    </tr>\n",
       "  </tbody>\n",
       "</table>\n",
       "<p>196 rows × 5 columns</p>\n",
       "</div>"
      ],
      "text/plain": [
       "                 Country       Year    gdp_pc  inflation  unemployment\n",
       "11           Afghanistan 2015-01-01   2534.92     -0.662           NaN\n",
       "32               Albania 2015-01-01  11662.00      1.868        17.100\n",
       "53               Algeria 2015-01-01  11944.99      4.784        11.214\n",
       "74               Andorra 2015-01-01  52747.89     -1.132         3.575\n",
       "95                Angola 2015-01-01   7274.09      9.159           NaN\n",
       "...                  ...        ...       ...        ...           ...\n",
       "4022             Vietnam 2015-01-01   7635.28      0.631         2.330\n",
       "4043  West Bank and Gaza 2015-01-01   5612.25      1.431        25.900\n",
       "4064               Yemen 2015-01-01   2437.50     22.000           NaN\n",
       "4085              Zambia 2015-01-01   3352.53     10.107           NaN\n",
       "4106            Zimbabwe 2015-01-01   2643.16     -2.410           NaN\n",
       "\n",
       "[196 rows x 5 columns]"
      ]
     },
     "execution_count": 19,
     "metadata": {},
     "output_type": "execute_result"
    }
   ],
   "source": [
    "weo_long3[weo_long3['Year'] == '2015-01-01']"
   ]
  },
  {
   "cell_type": "markdown",
   "id": "dc200e21",
   "metadata": {},
   "source": [
    "#### How many missing values are there for the unemployment variable?"
   ]
  },
  {
   "cell_type": "code",
   "execution_count": 20,
   "id": "17234f9d",
   "metadata": {},
   "outputs": [
    {
     "data": {
      "text/plain": [
       "1816"
      ]
     },
     "execution_count": 20,
     "metadata": {},
     "output_type": "execute_result"
    }
   ],
   "source": [
    "weo_long3['unemployment'].isnull().sum()"
   ]
  },
  {
   "cell_type": "markdown",
   "id": "4f7cb22d",
   "metadata": {},
   "source": [
    "#### How many countries do we actually have unemployment data for at all?"
   ]
  },
  {
   "cell_type": "code",
   "execution_count": 21,
   "id": "047a1be7",
   "metadata": {},
   "outputs": [
    {
     "data": {
      "text/plain": [
       "1608"
      ]
     },
     "execution_count": 21,
     "metadata": {},
     "output_type": "execute_result"
    }
   ],
   "source": [
    "weo_long4 = weo_long3.dropna(how='any',subset = ['unemployment'])\n",
    "weo_long4['unemployment'].nunique()"
   ]
  },
  {
   "cell_type": "markdown",
   "id": "2c56575f",
   "metadata": {},
   "source": [
    "#### Merge in the World Development Indicators indicators data with the WEO data\n",
    "\n",
    "- After merging, drop the `country` variable (the lowercase one)"
   ]
  },
  {
   "cell_type": "code",
   "execution_count": 22,
   "id": "33142dda",
   "metadata": {},
   "outputs": [
    {
     "data": {
      "text/html": [
       "<div>\n",
       "<style scoped>\n",
       "    .dataframe tbody tr th:only-of-type {\n",
       "        vertical-align: middle;\n",
       "    }\n",
       "\n",
       "    .dataframe tbody tr th {\n",
       "        vertical-align: top;\n",
       "    }\n",
       "\n",
       "    .dataframe thead th {\n",
       "        text-align: right;\n",
       "    }\n",
       "</style>\n",
       "<table border=\"1\" class=\"dataframe\">\n",
       "  <thead>\n",
       "    <tr style=\"text-align: right;\">\n",
       "      <th></th>\n",
       "      <th>Country</th>\n",
       "      <th>Year</th>\n",
       "      <th>gdp_pc</th>\n",
       "      <th>inflation</th>\n",
       "      <th>unemployment</th>\n",
       "      <th>region</th>\n",
       "      <th>income_group</th>\n",
       "    </tr>\n",
       "  </thead>\n",
       "  <tbody>\n",
       "    <tr>\n",
       "      <th>0</th>\n",
       "      <td>Afghanistan</td>\n",
       "      <td>2004-01-01</td>\n",
       "      <td>1113.15</td>\n",
       "      <td>16.358</td>\n",
       "      <td>NaN</td>\n",
       "      <td>South Asia</td>\n",
       "      <td>Low income</td>\n",
       "    </tr>\n",
       "    <tr>\n",
       "      <th>1</th>\n",
       "      <td>Afghanistan</td>\n",
       "      <td>2005-01-01</td>\n",
       "      <td>1240.38</td>\n",
       "      <td>10.569</td>\n",
       "      <td>NaN</td>\n",
       "      <td>South Asia</td>\n",
       "      <td>Low income</td>\n",
       "    </tr>\n",
       "    <tr>\n",
       "      <th>2</th>\n",
       "      <td>Afghanistan</td>\n",
       "      <td>2006-01-01</td>\n",
       "      <td>1306.71</td>\n",
       "      <td>6.785</td>\n",
       "      <td>NaN</td>\n",
       "      <td>South Asia</td>\n",
       "      <td>Low income</td>\n",
       "    </tr>\n",
       "    <tr>\n",
       "      <th>3</th>\n",
       "      <td>Afghanistan</td>\n",
       "      <td>2007-01-01</td>\n",
       "      <td>1464.72</td>\n",
       "      <td>8.681</td>\n",
       "      <td>NaN</td>\n",
       "      <td>South Asia</td>\n",
       "      <td>Low income</td>\n",
       "    </tr>\n",
       "    <tr>\n",
       "      <th>4</th>\n",
       "      <td>Afghanistan</td>\n",
       "      <td>2008-01-01</td>\n",
       "      <td>1512.00</td>\n",
       "      <td>26.419</td>\n",
       "      <td>NaN</td>\n",
       "      <td>South Asia</td>\n",
       "      <td>Low income</td>\n",
       "    </tr>\n",
       "    <tr>\n",
       "      <th>...</th>\n",
       "      <td>...</td>\n",
       "      <td>...</td>\n",
       "      <td>...</td>\n",
       "      <td>...</td>\n",
       "      <td>...</td>\n",
       "      <td>...</td>\n",
       "      <td>...</td>\n",
       "    </tr>\n",
       "    <tr>\n",
       "      <th>4111</th>\n",
       "      <td>Zimbabwe</td>\n",
       "      <td>2020-01-01</td>\n",
       "      <td>2104.58</td>\n",
       "      <td>557.210</td>\n",
       "      <td>NaN</td>\n",
       "      <td>Sub-Saharan Africa</td>\n",
       "      <td>Low income</td>\n",
       "    </tr>\n",
       "    <tr>\n",
       "      <th>4112</th>\n",
       "      <td>Zimbabwe</td>\n",
       "      <td>2021-01-01</td>\n",
       "      <td>2337.81</td>\n",
       "      <td>98.546</td>\n",
       "      <td>NaN</td>\n",
       "      <td>Sub-Saharan Africa</td>\n",
       "      <td>Low income</td>\n",
       "    </tr>\n",
       "    <tr>\n",
       "      <th>4113</th>\n",
       "      <td>Zimbabwe</td>\n",
       "      <td>2022-01-01</td>\n",
       "      <td>2602.78</td>\n",
       "      <td>193.399</td>\n",
       "      <td>NaN</td>\n",
       "      <td>Sub-Saharan Africa</td>\n",
       "      <td>Low income</td>\n",
       "    </tr>\n",
       "    <tr>\n",
       "      <th>4114</th>\n",
       "      <td>Zimbabwe</td>\n",
       "      <td>2023-01-01</td>\n",
       "      <td>2749.78</td>\n",
       "      <td>314.501</td>\n",
       "      <td>NaN</td>\n",
       "      <td>Sub-Saharan Africa</td>\n",
       "      <td>Low income</td>\n",
       "    </tr>\n",
       "    <tr>\n",
       "      <th>4115</th>\n",
       "      <td>Zimbabwe</td>\n",
       "      <td>2024-01-01</td>\n",
       "      <td>2857.51</td>\n",
       "      <td>222.399</td>\n",
       "      <td>NaN</td>\n",
       "      <td>Sub-Saharan Africa</td>\n",
       "      <td>Low income</td>\n",
       "    </tr>\n",
       "  </tbody>\n",
       "</table>\n",
       "<p>4116 rows × 7 columns</p>\n",
       "</div>"
      ],
      "text/plain": [
       "          Country       Year   gdp_pc  inflation  unemployment  \\\n",
       "0     Afghanistan 2004-01-01  1113.15     16.358           NaN   \n",
       "1     Afghanistan 2005-01-01  1240.38     10.569           NaN   \n",
       "2     Afghanistan 2006-01-01  1306.71      6.785           NaN   \n",
       "3     Afghanistan 2007-01-01  1464.72      8.681           NaN   \n",
       "4     Afghanistan 2008-01-01  1512.00     26.419           NaN   \n",
       "...           ...        ...      ...        ...           ...   \n",
       "4111     Zimbabwe 2020-01-01  2104.58    557.210           NaN   \n",
       "4112     Zimbabwe 2021-01-01  2337.81     98.546           NaN   \n",
       "4113     Zimbabwe 2022-01-01  2602.78    193.399           NaN   \n",
       "4114     Zimbabwe 2023-01-01  2749.78    314.501           NaN   \n",
       "4115     Zimbabwe 2024-01-01  2857.51    222.399           NaN   \n",
       "\n",
       "                  region income_group  \n",
       "0             South Asia   Low income  \n",
       "1             South Asia   Low income  \n",
       "2             South Asia   Low income  \n",
       "3             South Asia   Low income  \n",
       "4             South Asia   Low income  \n",
       "...                  ...          ...  \n",
       "4111  Sub-Saharan Africa   Low income  \n",
       "4112  Sub-Saharan Africa   Low income  \n",
       "4113  Sub-Saharan Africa   Low income  \n",
       "4114  Sub-Saharan Africa   Low income  \n",
       "4115  Sub-Saharan Africa   Low income  \n",
       "\n",
       "[4116 rows x 7 columns]"
      ]
     },
     "execution_count": 22,
     "metadata": {},
     "output_type": "execute_result"
    }
   ],
   "source": [
    "weo_whole = pd.merge(weo_long3,wdi,left_on = 'Country', right_on = 'country', how=\"outer\")\n",
    "weo_whole = weo_whole.dropna(how='any',subset = ['Country'])\n",
    "weo_whole = weo_whole.drop('country',axis=1)\n",
    "weo_whole"
   ]
  },
  {
   "cell_type": "markdown",
   "id": "f11d96a8",
   "metadata": {},
   "source": [
    "#### Which countries don't have valid `region` identifiers after the merge?"
   ]
  },
  {
   "cell_type": "code",
   "execution_count": 23,
   "id": "a908384e",
   "metadata": {
    "scrolled": true
   },
   "outputs": [
    {
     "data": {
      "text/plain": [
       "array([\"Côte d'Ivoire\", 'Democratic Republic of the Congo', 'Egypt',\n",
       "       'Eswatini', 'Hong Kong SAR', 'Islamic Republic of Iran', 'Korea',\n",
       "       'Lao P.D.R.', 'Macao SAR', 'Micronesia', 'North Macedonia',\n",
       "       'Republic of Congo', 'Russia', 'Syria', 'São Tomé and Príncipe',\n",
       "       'Taiwan Province of China', 'The Bahamas', 'The Gambia', 'Türkiye',\n",
       "       'Venezuela', 'Yemen'], dtype=object)"
      ]
     },
     "execution_count": 23,
     "metadata": {},
     "output_type": "execute_result"
    }
   ],
   "source": [
    "weo_whole[weo_whole['region'].isnull()]['Country'].unique()"
   ]
  },
  {
   "cell_type": "markdown",
   "id": "df23fa28",
   "metadata": {},
   "source": [
    "#### Remove these countries from the dataframe"
   ]
  },
  {
   "cell_type": "code",
   "execution_count": 24,
   "id": "0c4a5e8f",
   "metadata": {},
   "outputs": [
    {
     "data": {
      "text/html": [
       "<div>\n",
       "<style scoped>\n",
       "    .dataframe tbody tr th:only-of-type {\n",
       "        vertical-align: middle;\n",
       "    }\n",
       "\n",
       "    .dataframe tbody tr th {\n",
       "        vertical-align: top;\n",
       "    }\n",
       "\n",
       "    .dataframe thead th {\n",
       "        text-align: right;\n",
       "    }\n",
       "</style>\n",
       "<table border=\"1\" class=\"dataframe\">\n",
       "  <thead>\n",
       "    <tr style=\"text-align: right;\">\n",
       "      <th></th>\n",
       "      <th>Country</th>\n",
       "      <th>Year</th>\n",
       "      <th>gdp_pc</th>\n",
       "      <th>inflation</th>\n",
       "      <th>unemployment</th>\n",
       "      <th>region</th>\n",
       "      <th>income_group</th>\n",
       "    </tr>\n",
       "  </thead>\n",
       "  <tbody>\n",
       "    <tr>\n",
       "      <th>0</th>\n",
       "      <td>Afghanistan</td>\n",
       "      <td>2004-01-01</td>\n",
       "      <td>1113.15</td>\n",
       "      <td>16.358</td>\n",
       "      <td>NaN</td>\n",
       "      <td>South Asia</td>\n",
       "      <td>Low income</td>\n",
       "    </tr>\n",
       "    <tr>\n",
       "      <th>1</th>\n",
       "      <td>Afghanistan</td>\n",
       "      <td>2005-01-01</td>\n",
       "      <td>1240.38</td>\n",
       "      <td>10.569</td>\n",
       "      <td>NaN</td>\n",
       "      <td>South Asia</td>\n",
       "      <td>Low income</td>\n",
       "    </tr>\n",
       "    <tr>\n",
       "      <th>2</th>\n",
       "      <td>Afghanistan</td>\n",
       "      <td>2006-01-01</td>\n",
       "      <td>1306.71</td>\n",
       "      <td>6.785</td>\n",
       "      <td>NaN</td>\n",
       "      <td>South Asia</td>\n",
       "      <td>Low income</td>\n",
       "    </tr>\n",
       "    <tr>\n",
       "      <th>3</th>\n",
       "      <td>Afghanistan</td>\n",
       "      <td>2007-01-01</td>\n",
       "      <td>1464.72</td>\n",
       "      <td>8.681</td>\n",
       "      <td>NaN</td>\n",
       "      <td>South Asia</td>\n",
       "      <td>Low income</td>\n",
       "    </tr>\n",
       "    <tr>\n",
       "      <th>4</th>\n",
       "      <td>Afghanistan</td>\n",
       "      <td>2008-01-01</td>\n",
       "      <td>1512.00</td>\n",
       "      <td>26.419</td>\n",
       "      <td>NaN</td>\n",
       "      <td>South Asia</td>\n",
       "      <td>Low income</td>\n",
       "    </tr>\n",
       "    <tr>\n",
       "      <th>...</th>\n",
       "      <td>...</td>\n",
       "      <td>...</td>\n",
       "      <td>...</td>\n",
       "      <td>...</td>\n",
       "      <td>...</td>\n",
       "      <td>...</td>\n",
       "      <td>...</td>\n",
       "    </tr>\n",
       "    <tr>\n",
       "      <th>4111</th>\n",
       "      <td>Zimbabwe</td>\n",
       "      <td>2020-01-01</td>\n",
       "      <td>2104.58</td>\n",
       "      <td>557.210</td>\n",
       "      <td>NaN</td>\n",
       "      <td>Sub-Saharan Africa</td>\n",
       "      <td>Low income</td>\n",
       "    </tr>\n",
       "    <tr>\n",
       "      <th>4112</th>\n",
       "      <td>Zimbabwe</td>\n",
       "      <td>2021-01-01</td>\n",
       "      <td>2337.81</td>\n",
       "      <td>98.546</td>\n",
       "      <td>NaN</td>\n",
       "      <td>Sub-Saharan Africa</td>\n",
       "      <td>Low income</td>\n",
       "    </tr>\n",
       "    <tr>\n",
       "      <th>4113</th>\n",
       "      <td>Zimbabwe</td>\n",
       "      <td>2022-01-01</td>\n",
       "      <td>2602.78</td>\n",
       "      <td>193.399</td>\n",
       "      <td>NaN</td>\n",
       "      <td>Sub-Saharan Africa</td>\n",
       "      <td>Low income</td>\n",
       "    </tr>\n",
       "    <tr>\n",
       "      <th>4114</th>\n",
       "      <td>Zimbabwe</td>\n",
       "      <td>2023-01-01</td>\n",
       "      <td>2749.78</td>\n",
       "      <td>314.501</td>\n",
       "      <td>NaN</td>\n",
       "      <td>Sub-Saharan Africa</td>\n",
       "      <td>Low income</td>\n",
       "    </tr>\n",
       "    <tr>\n",
       "      <th>4115</th>\n",
       "      <td>Zimbabwe</td>\n",
       "      <td>2024-01-01</td>\n",
       "      <td>2857.51</td>\n",
       "      <td>222.399</td>\n",
       "      <td>NaN</td>\n",
       "      <td>Sub-Saharan Africa</td>\n",
       "      <td>Low income</td>\n",
       "    </tr>\n",
       "  </tbody>\n",
       "</table>\n",
       "<p>3675 rows × 7 columns</p>\n",
       "</div>"
      ],
      "text/plain": [
       "          Country       Year   gdp_pc  inflation  unemployment  \\\n",
       "0     Afghanistan 2004-01-01  1113.15     16.358           NaN   \n",
       "1     Afghanistan 2005-01-01  1240.38     10.569           NaN   \n",
       "2     Afghanistan 2006-01-01  1306.71      6.785           NaN   \n",
       "3     Afghanistan 2007-01-01  1464.72      8.681           NaN   \n",
       "4     Afghanistan 2008-01-01  1512.00     26.419           NaN   \n",
       "...           ...        ...      ...        ...           ...   \n",
       "4111     Zimbabwe 2020-01-01  2104.58    557.210           NaN   \n",
       "4112     Zimbabwe 2021-01-01  2337.81     98.546           NaN   \n",
       "4113     Zimbabwe 2022-01-01  2602.78    193.399           NaN   \n",
       "4114     Zimbabwe 2023-01-01  2749.78    314.501           NaN   \n",
       "4115     Zimbabwe 2024-01-01  2857.51    222.399           NaN   \n",
       "\n",
       "                  region income_group  \n",
       "0             South Asia   Low income  \n",
       "1             South Asia   Low income  \n",
       "2             South Asia   Low income  \n",
       "3             South Asia   Low income  \n",
       "4             South Asia   Low income  \n",
       "...                  ...          ...  \n",
       "4111  Sub-Saharan Africa   Low income  \n",
       "4112  Sub-Saharan Africa   Low income  \n",
       "4113  Sub-Saharan Africa   Low income  \n",
       "4114  Sub-Saharan Africa   Low income  \n",
       "4115  Sub-Saharan Africa   Low income  \n",
       "\n",
       "[3675 rows x 7 columns]"
      ]
     },
     "execution_count": 24,
     "metadata": {},
     "output_type": "execute_result"
    }
   ],
   "source": [
    "weo_whole = weo_whole.dropna(how='any',subset = ['region'])\n",
    "weo_whole"
   ]
  },
  {
   "cell_type": "markdown",
   "id": "53568ba4",
   "metadata": {},
   "source": [
    "#### How many unique countries are there after this filter?"
   ]
  },
  {
   "cell_type": "code",
   "execution_count": 25,
   "id": "37ea3e3c",
   "metadata": {},
   "outputs": [
    {
     "data": {
      "text/plain": [
       "175"
      ]
     },
     "execution_count": 25,
     "metadata": {},
     "output_type": "execute_result"
    }
   ],
   "source": [
    "weo_whole['Country'].nunique()"
   ]
  },
  {
   "cell_type": "markdown",
   "id": "f6d38dd6",
   "metadata": {},
   "source": [
    "#### How many observations are there in each income group? Each region?"
   ]
  },
  {
   "cell_type": "code",
   "execution_count": 26,
   "id": "2dcf5696",
   "metadata": {},
   "outputs": [
    {
     "data": {
      "text/plain": [
       "income_group\n",
       "High income            1134\n",
       "Upper middle income    1029\n",
       "Lower middle income     924\n",
       "Low income              588\n",
       "Name: count, dtype: int64"
      ]
     },
     "execution_count": 26,
     "metadata": {},
     "output_type": "execute_result"
    }
   ],
   "source": [
    "weo_whole['income_group'].value_counts()"
   ]
  },
  {
   "cell_type": "code",
   "execution_count": 27,
   "id": "a2ac8648",
   "metadata": {},
   "outputs": [
    {
     "data": {
      "text/plain": [
       "region\n",
       "Europe & Central Asia         1008\n",
       "Sub-Saharan Africa             882\n",
       "Latin America & Caribbean      672\n",
       "East Asia & Pacific            546\n",
       "Middle East & North Africa     357\n",
       "South Asia                     168\n",
       "North America                   42\n",
       "Name: count, dtype: int64"
      ]
     },
     "execution_count": 27,
     "metadata": {},
     "output_type": "execute_result"
    }
   ],
   "source": [
    "weo_whole['region'].value_counts()"
   ]
  },
  {
   "cell_type": "markdown",
   "id": "f88265d9",
   "metadata": {},
   "source": [
    "#### What was the average inflation rate in 2021?"
   ]
  },
  {
   "cell_type": "code",
   "execution_count": 28,
   "id": "07a64f95",
   "metadata": {},
   "outputs": [
    {
     "data": {
      "text/plain": [
       "8.467396551724137"
      ]
     },
     "execution_count": 28,
     "metadata": {},
     "output_type": "execute_result"
    }
   ],
   "source": [
    "weo_whole[weo_whole['Year'] == '2021-01-01']['inflation'].mean()"
   ]
  },
  {
   "cell_type": "markdown",
   "id": "77fbf2b2",
   "metadata": {},
   "source": [
    "#### Which country had the highest unemployment rate in 2020?"
   ]
  },
  {
   "cell_type": "code",
   "execution_count": 29,
   "id": "4400c44d",
   "metadata": {},
   "outputs": [],
   "source": [
    "weo_whole2 = weo_whole[weo_whole['Year'] == '2021-01-01']"
   ]
  },
  {
   "cell_type": "code",
   "execution_count": 30,
   "id": "17db63a7",
   "metadata": {},
   "outputs": [
    {
     "data": {
      "text/plain": [
       "3272    South Africa\n",
       "Name: Country, dtype: object"
      ]
     },
     "execution_count": 30,
     "metadata": {},
     "output_type": "execute_result"
    }
   ],
   "source": [
    "weo_whole2.iloc[(weo_whole2[\"unemployment\"] == weo_whole2[\"unemployment\"].max()).values, 0]"
   ]
  },
  {
   "cell_type": "markdown",
   "id": "04d2acf5",
   "metadata": {},
   "source": [
    "#### What was the average unemployment in each year?"
   ]
  },
  {
   "cell_type": "code",
   "execution_count": 31,
   "id": "9eb60ed1",
   "metadata": {},
   "outputs": [
    {
     "data": {
      "text/plain": [
       "Year\n",
       "2004-01-01    9.522000\n",
       "2005-01-01    9.189842\n",
       "2006-01-01    8.488537\n",
       "2007-01-01    7.872412\n",
       "2008-01-01    7.405010\n",
       "2009-01-01    8.873577\n",
       "2010-01-01    9.154374\n",
       "2011-01-01    9.001470\n",
       "2012-01-01    9.499920\n",
       "2013-01-01    9.469470\n",
       "2014-01-01    9.330810\n",
       "2015-01-01    8.976510\n",
       "2016-01-01    8.723080\n",
       "2017-01-01    8.262109\n",
       "2018-01-01    7.905257\n",
       "2019-01-01    7.452310\n",
       "2020-01-01    9.028657\n",
       "2021-01-01    8.405384\n",
       "2022-01-01    7.379216\n",
       "2023-01-01    7.250901\n",
       "2024-01-01    7.138319\n",
       "Name: unemployment, dtype: float64"
      ]
     },
     "execution_count": 31,
     "metadata": {},
     "output_type": "execute_result"
    }
   ],
   "source": [
    "weo_whole.groupby('Year')['unemployment'].mean()"
   ]
  },
  {
   "cell_type": "markdown",
   "id": "0a6751cc",
   "metadata": {},
   "source": [
    "#### In which year do we see the highest average inflation?"
   ]
  },
  {
   "cell_type": "code",
   "execution_count": 32,
   "id": "389f227c",
   "metadata": {},
   "outputs": [
    {
     "data": {
      "text/plain": [
       "Timestamp('2004-01-01 00:00:00')"
      ]
     },
     "execution_count": 32,
     "metadata": {},
     "output_type": "execute_result"
    }
   ],
   "source": [
    "weo_whole.groupby('Year')['unemployment'].mean().idxmax()"
   ]
  },
  {
   "cell_type": "markdown",
   "id": "28620f10",
   "metadata": {},
   "source": [
    "#### Using method chaining, in one chained command:\n",
    "- Create a subset of the data that has only those observations from the `Europe & Central Asia` region from 2016, with only the `unemployment` column\n",
    "- Change the units of the unemployment rate column to reflect a percent (divide by 100)\n",
    "- Find the average unemployment rate for this group"
   ]
  },
  {
   "cell_type": "code",
   "execution_count": 43,
   "id": "985c13ba",
   "metadata": {},
   "outputs": [
    {
     "data": {
      "text/plain": [
       "0.09605688888888887"
      ]
     },
     "execution_count": 43,
     "metadata": {},
     "output_type": "execute_result"
    }
   ],
   "source": [
    "(weo_whole.loc[weo_whole[\"Year\"] == '2016-01-01']\n",
    "          .loc[weo_whole[\"region\"] == \"Europe & Central Asia\", 'unemployment']\n",
    "          .div(100)\n",
    "          .mean()\n",
    ")"
   ]
  },
  {
   "cell_type": "markdown",
   "id": "54ecb303",
   "metadata": {},
   "source": [
    "#### Find the average level of GDP for each income group"
   ]
  },
  {
   "cell_type": "code",
   "execution_count": 44,
   "id": "685afee6",
   "metadata": {},
   "outputs": [
    {
     "data": {
      "text/plain": [
       "income_group\n",
       "High income            45433.304087\n",
       "Low income              1894.504878\n",
       "Lower middle income     6211.559761\n",
       "Upper middle income    14998.848179\n",
       "Name: gdp_pc, dtype: float64"
      ]
     },
     "execution_count": 44,
     "metadata": {},
     "output_type": "execute_result"
    }
   ],
   "source": [
    "weo_whole.groupby('income_group')['gdp_pc'].mean()"
   ]
  },
  {
   "cell_type": "markdown",
   "id": "998ac6f1",
   "metadata": {},
   "source": [
    "#### Which region has the largest within-region disparity in GDP per capita, as measured by standard deviation?"
   ]
  },
  {
   "cell_type": "code",
   "execution_count": 47,
   "id": "73f37edd",
   "metadata": {},
   "outputs": [
    {
     "data": {
      "text/plain": [
       "'High income'"
      ]
     },
     "execution_count": 47,
     "metadata": {},
     "output_type": "execute_result"
    }
   ],
   "source": [
    "weo_whole.groupby('income_group')['gdp_pc'].std().idxmax()"
   ]
  },
  {
   "cell_type": "markdown",
   "id": "e50a6fab",
   "metadata": {},
   "source": [
    "#### Export the dataset as a csv file named `weo_export.csv` with the argument `index=False`"
   ]
  },
  {
   "cell_type": "code",
   "execution_count": 48,
   "id": "1da01036",
   "metadata": {},
   "outputs": [],
   "source": [
    "weo_whole.to_csv(\"weo_export.csv\", index=False)"
   ]
  },
  {
   "cell_type": "code",
   "execution_count": null,
   "id": "054842a1",
   "metadata": {},
   "outputs": [],
   "source": []
  }
 ],
 "metadata": {
  "kernelspec": {
   "display_name": "intro",
   "language": "python",
   "name": "intro"
  },
  "language_info": {
   "codemirror_mode": {
    "name": "ipython",
    "version": 3
   },
   "file_extension": ".py",
   "mimetype": "text/x-python",
   "name": "python",
   "nbconvert_exporter": "python",
   "pygments_lexer": "ipython3",
   "version": "3.9.7"
  }
 },
 "nbformat": 4,
 "nbformat_minor": 5
}
