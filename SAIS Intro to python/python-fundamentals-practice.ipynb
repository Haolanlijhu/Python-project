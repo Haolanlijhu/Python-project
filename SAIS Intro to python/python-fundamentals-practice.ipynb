{
 "cells": [
  {
   "cell_type": "markdown",
   "id": "1d0433f0",
   "metadata": {},
   "source": [
    "# Python fundamentals Practice"
   ]
  },
  {
   "cell_type": "markdown",
   "id": "87e783bc",
   "metadata": {},
   "source": [
    "#### Create a variable `x` with the value of 6 to the power of 5; print the result"
   ]
  },
  {
   "cell_type": "code",
   "execution_count": 2,
   "id": "8c642cb6",
   "metadata": {},
   "outputs": [
    {
     "data": {
      "text/plain": [
       "7776"
      ]
     },
     "execution_count": 2,
     "metadata": {},
     "output_type": "execute_result"
    }
   ],
   "source": [
    "x = 6 ** 5\n",
    "x"
   ]
  },
  {
   "cell_type": "markdown",
   "id": "a558ee47",
   "metadata": {},
   "source": [
    "#### Print the following string using the `.format()` method or f-strings, piping in the value of `x`"
   ]
  },
  {
   "cell_type": "code",
   "execution_count": 3,
   "id": "44bfa5df",
   "metadata": {},
   "outputs": [
    {
     "data": {
      "text/plain": [
       "'6 to the power of 5 is 7776'"
      ]
     },
     "execution_count": 3,
     "metadata": {},
     "output_type": "execute_result"
    }
   ],
   "source": [
    "'6 to the power of 5 is {}'.format(x)"
   ]
  },
  {
   "cell_type": "markdown",
   "id": "4cba2aa7",
   "metadata": {},
   "source": [
    "#### Save this to a variable `words`; how long is this string?"
   ]
  },
  {
   "cell_type": "code",
   "execution_count": 4,
   "id": "e97b2916",
   "metadata": {},
   "outputs": [
    {
     "data": {
      "text/plain": [
       "27"
      ]
     },
     "execution_count": 4,
     "metadata": {},
     "output_type": "execute_result"
    }
   ],
   "source": [
    "words = '6 to the power of 5 is {}'.format(x)\n",
    "len(words)"
   ]
  },
  {
   "cell_type": "markdown",
   "id": "b570599b",
   "metadata": {},
   "source": [
    "#### How many spaces are in this string? Use either `.count()` or `.split()`"
   ]
  },
  {
   "cell_type": "code",
   "execution_count": 5,
   "id": "4f753895",
   "metadata": {},
   "outputs": [
    {
     "data": {
      "text/plain": [
       "7"
      ]
     },
     "execution_count": 5,
     "metadata": {},
     "output_type": "execute_result"
    }
   ],
   "source": [
    "words.count(\" \")"
   ]
  },
  {
   "cell_type": "code",
   "execution_count": 6,
   "id": "db5906a7",
   "metadata": {},
   "outputs": [
    {
     "data": {
      "text/plain": [
       "7"
      ]
     },
     "execution_count": 6,
     "metadata": {},
     "output_type": "execute_result"
    }
   ],
   "source": [
    "len(words.split(\" \"))-1"
   ]
  },
  {
   "cell_type": "markdown",
   "id": "0032a718",
   "metadata": {},
   "source": [
    "#### Slice the string to return just the \"7776\" portion; save it to a variable \"y\" and print the result as an integer"
   ]
  },
  {
   "cell_type": "code",
   "execution_count": 8,
   "id": "ecdf76ec",
   "metadata": {},
   "outputs": [
    {
     "data": {
      "text/plain": [
       "7776"
      ]
     },
     "execution_count": 8,
     "metadata": {},
     "output_type": "execute_result"
    }
   ],
   "source": [
    "y = int(words[23:])\n",
    "y"
   ]
  },
  {
   "cell_type": "markdown",
   "id": "8d26b75c",
   "metadata": {},
   "source": [
    "#### Replace the first \"6\" and \"5\" with \"six\" and \"five\" in this string"
   ]
  },
  {
   "cell_type": "code",
   "execution_count": 9,
   "id": "8720f390",
   "metadata": {},
   "outputs": [
    {
     "data": {
      "text/plain": [
       "'six to the power of 5 is 7776'"
      ]
     },
     "execution_count": 9,
     "metadata": {},
     "output_type": "execute_result"
    }
   ],
   "source": [
    "words = words.replace(\"6\", \"six\", 1)\n",
    "words"
   ]
  },
  {
   "cell_type": "code",
   "execution_count": 10,
   "id": "41a2e4ea",
   "metadata": {},
   "outputs": [
    {
     "data": {
      "text/plain": [
       "'six to the power of five is 7776'"
      ]
     },
     "execution_count": 10,
     "metadata": {},
     "output_type": "execute_result"
    }
   ],
   "source": [
    "words = words.replace(\"5\",\"five\",1)\n",
    "words"
   ]
  },
  {
   "cell_type": "markdown",
   "id": "633a57ba",
   "metadata": {},
   "source": [
    "#### Create a list `x` with the values 4, 7, 8, 10, 7, 4, 100; print the result"
   ]
  },
  {
   "cell_type": "code",
   "execution_count": 11,
   "id": "ca3be3fe",
   "metadata": {},
   "outputs": [
    {
     "data": {
      "text/plain": [
       "[4, 7, 8, 10, 7, 4, 100]"
      ]
     },
     "execution_count": 11,
     "metadata": {},
     "output_type": "execute_result"
    }
   ],
   "source": [
    "x = [4, 7, 8, 10, 7, 4, 100]\n",
    "x"
   ]
  },
  {
   "cell_type": "markdown",
   "id": "c9489a1d",
   "metadata": {},
   "source": [
    "#### How long is this list?  How many unique values are in this list (hint: use `set()`)"
   ]
  },
  {
   "cell_type": "code",
   "execution_count": 12,
   "id": "fa7271ad",
   "metadata": {},
   "outputs": [
    {
     "data": {
      "text/plain": [
       "7"
      ]
     },
     "execution_count": 12,
     "metadata": {},
     "output_type": "execute_result"
    }
   ],
   "source": [
    "len(x)"
   ]
  },
  {
   "cell_type": "code",
   "execution_count": 13,
   "id": "23f9083a",
   "metadata": {},
   "outputs": [
    {
     "data": {
      "text/plain": [
       "5"
      ]
     },
     "execution_count": 13,
     "metadata": {},
     "output_type": "execute_result"
    }
   ],
   "source": [
    "len(set(x))"
   ]
  },
  {
   "cell_type": "markdown",
   "id": "7831eb02",
   "metadata": {},
   "source": [
    "#### Sort this list and reassign it back to `x`; print the result"
   ]
  },
  {
   "cell_type": "code",
   "execution_count": 14,
   "id": "4b483d95",
   "metadata": {},
   "outputs": [
    {
     "data": {
      "text/plain": [
       "[4, 4, 7, 7, 8, 10, 100]"
      ]
     },
     "execution_count": 14,
     "metadata": {},
     "output_type": "execute_result"
    }
   ],
   "source": [
    "x= sorted(x)\n",
    "x"
   ]
  },
  {
   "cell_type": "markdown",
   "id": "334aa3c9",
   "metadata": {},
   "source": [
    "#### Append the value `1` to the _end_ of the list; print the result"
   ]
  },
  {
   "cell_type": "code",
   "execution_count": 15,
   "id": "f4cafad0",
   "metadata": {},
   "outputs": [
    {
     "data": {
      "text/plain": [
       "[4, 4, 7, 7, 8, 10, 100, 1]"
      ]
     },
     "execution_count": 15,
     "metadata": {},
     "output_type": "execute_result"
    }
   ],
   "source": [
    "x.append(1)\n",
    "x"
   ]
  },
  {
   "cell_type": "markdown",
   "id": "3a30b8d6",
   "metadata": {},
   "source": [
    "#### Report the following slice of this list"
   ]
  },
  {
   "cell_type": "code",
   "execution_count": 16,
   "id": "e9718922",
   "metadata": {},
   "outputs": [
    {
     "data": {
      "text/plain": [
       "[7, 7, 8]"
      ]
     },
     "execution_count": 16,
     "metadata": {},
     "output_type": "execute_result"
    }
   ],
   "source": [
    "x[2:5]"
   ]
  },
  {
   "cell_type": "markdown",
   "id": "30427844",
   "metadata": {},
   "source": [
    "#### Print the following value of this list"
   ]
  },
  {
   "cell_type": "code",
   "execution_count": 17,
   "id": "3abc6406",
   "metadata": {},
   "outputs": [
    {
     "name": "stdout",
     "output_type": "stream",
     "text": [
      "1\n"
     ]
    }
   ],
   "source": [
    "print(x[-1])"
   ]
  },
  {
   "cell_type": "markdown",
   "id": "25eb24cf",
   "metadata": {},
   "source": [
    "#### Given the following list, return the `5000` value"
   ]
  },
  {
   "cell_type": "code",
   "execution_count": 19,
   "id": "300451b1",
   "metadata": {},
   "outputs": [],
   "source": [
    "nested_list = [0, [1, 2, 3, [4, 5, [6]]], [7, [8, [9, 10], 5000]], 11, [12]]"
   ]
  },
  {
   "cell_type": "code",
   "execution_count": 20,
   "id": "8c944a48",
   "metadata": {},
   "outputs": [
    {
     "data": {
      "text/plain": [
       "5000"
      ]
     },
     "execution_count": 20,
     "metadata": {},
     "output_type": "execute_result"
    }
   ],
   "source": [
    "nested_list[2][1][2]"
   ]
  },
  {
   "cell_type": "markdown",
   "id": "9462c47f",
   "metadata": {},
   "source": [
    "#### Given the following _dictionary_ return the word \"target\""
   ]
  },
  {
   "cell_type": "code",
   "execution_count": 21,
   "id": "5c36b33b",
   "metadata": {},
   "outputs": [],
   "source": [
    "nested_dict = {\"a\": {\"A\": \"aa\"}, \"b\": [\"B\"], \"c\": {\"words\": [\"bullseye\", \"target\"]}}"
   ]
  },
  {
   "cell_type": "code",
   "execution_count": 22,
   "id": "a6c4c3c7",
   "metadata": {},
   "outputs": [
    {
     "data": {
      "text/plain": [
       "'target'"
      ]
     },
     "execution_count": 22,
     "metadata": {},
     "output_type": "execute_result"
    }
   ],
   "source": [
    "nested_dict[\"c\"][\"words\"][1]"
   ]
  },
  {
   "cell_type": "markdown",
   "id": "da5eb58c",
   "metadata": {},
   "source": [
    "#### Print the keys of this dictionary"
   ]
  },
  {
   "cell_type": "code",
   "execution_count": 23,
   "id": "8f2349d5",
   "metadata": {},
   "outputs": [
    {
     "data": {
      "text/plain": [
       "dict_keys(['a', 'b', 'c'])"
      ]
     },
     "execution_count": 23,
     "metadata": {},
     "output_type": "execute_result"
    }
   ],
   "source": [
    "nested_dict.keys()"
   ]
  },
  {
   "cell_type": "markdown",
   "id": "b88d3337",
   "metadata": {},
   "source": [
    "#### Add a new entry to this dictionary (use any key or value you'd like); print the resulting dictionary"
   ]
  },
  {
   "cell_type": "code",
   "execution_count": 24,
   "id": "5cf6576f",
   "metadata": {},
   "outputs": [
    {
     "data": {
      "text/plain": [
       "{'a': {'A': 'aa'},\n",
       " 'b': ['B'],\n",
       " 'c': {'words': ['bullseye', 'target']},\n",
       " 'd': 'new'}"
      ]
     },
     "execution_count": 24,
     "metadata": {},
     "output_type": "execute_result"
    }
   ],
   "source": [
    "nested_dict[\"d\"] = \"new\"\n",
    "nested_dict"
   ]
  },
  {
   "cell_type": "markdown",
   "id": "f2b17d50",
   "metadata": {},
   "source": [
    "#### Get and print *just* the value you've stored"
   ]
  },
  {
   "cell_type": "code",
   "execution_count": 25,
   "id": "76b53819",
   "metadata": {},
   "outputs": [
    {
     "data": {
      "text/plain": [
       "'new'"
      ]
     },
     "execution_count": 25,
     "metadata": {},
     "output_type": "execute_result"
    }
   ],
   "source": [
    "nested_dict[\"d\"]"
   ]
  },
  {
   "cell_type": "markdown",
   "id": "a2b2c889",
   "metadata": {},
   "source": [
    "#### Loop over the list `x` and print out the square root of each value"
   ]
  },
  {
   "cell_type": "code",
   "execution_count": 26,
   "id": "bc5cbf14",
   "metadata": {},
   "outputs": [
    {
     "name": "stdout",
     "output_type": "stream",
     "text": [
      "2.0\n",
      "2.0\n",
      "2.6457513110645907\n",
      "2.6457513110645907\n",
      "2.8284271247461903\n",
      "3.1622776601683795\n",
      "10.0\n",
      "1.0\n"
     ]
    }
   ],
   "source": [
    "for value in x:\n",
    "    print(value ** 0.5)"
   ]
  },
  {
   "cell_type": "markdown",
   "id": "08839ca9",
   "metadata": {},
   "source": [
    "#### Perform the same operation, but instead of printing the values, return them as a list (hint: use either an empty list and `.append()` or a list comprehension)"
   ]
  },
  {
   "cell_type": "code",
   "execution_count": 27,
   "id": "d38b69cb",
   "metadata": {},
   "outputs": [
    {
     "data": {
      "text/plain": [
       "[2.0,\n",
       " 2.0,\n",
       " 2.6457513110645907,\n",
       " 2.6457513110645907,\n",
       " 2.8284271247461903,\n",
       " 3.1622776601683795,\n",
       " 10.0,\n",
       " 1.0]"
      ]
     },
     "execution_count": 27,
     "metadata": {},
     "output_type": "execute_result"
    }
   ],
   "source": [
    "[value ** 0.5 for value in x]"
   ]
  },
  {
   "cell_type": "markdown",
   "id": "40cb761f",
   "metadata": {},
   "source": [
    "#### Create a function that grabs the email website domain from a string in the form: `\"jared@jhu.edu\"`\n",
    "    \n",
    "(So for example, passing `\"jared@jhu.edu\"` would return: `\"jhu.edu\"`)"
   ]
  },
  {
   "cell_type": "code",
   "execution_count": 36,
   "id": "85b37028",
   "metadata": {},
   "outputs": [],
   "source": [
    "def extract(email):\n",
    "    print(email.split(\"@\")[-1])"
   ]
  },
  {
   "cell_type": "code",
   "execution_count": 38,
   "id": "7c823e95",
   "metadata": {},
   "outputs": [
    {
     "name": "stdout",
     "output_type": "stream",
     "text": [
      "jhu.edu\n"
     ]
    }
   ],
   "source": [
    "extract(\"jared@jhu.edu\")"
   ]
  },
  {
   "cell_type": "markdown",
   "id": "324d5257",
   "metadata": {},
   "source": [
    "#### Create a function that takes as input a number, and prints out a statement denoting if that number is even or odd\n",
    "\n",
    "(So, given `2` it might print `even!`)"
   ]
  },
  {
   "cell_type": "code",
   "execution_count": 39,
   "id": "1a928221",
   "metadata": {},
   "outputs": [],
   "source": [
    "def check(x):\n",
    "    if x % 2 ==0:\n",
    "        print(f\"{x} is even!\")\n",
    "    else:\n",
    "        print(f\"{x} is odd!\")"
   ]
  },
  {
   "cell_type": "code",
   "execution_count": 40,
   "id": "43b3af67",
   "metadata": {},
   "outputs": [
    {
     "name": "stdout",
     "output_type": "stream",
     "text": [
      "2 is even!\n"
     ]
    }
   ],
   "source": [
    "check(2)"
   ]
  },
  {
   "cell_type": "code",
   "execution_count": 41,
   "id": "6b860fa2",
   "metadata": {},
   "outputs": [
    {
     "name": "stdout",
     "output_type": "stream",
     "text": [
      "5 is odd!\n"
     ]
    }
   ],
   "source": [
    "check(5)"
   ]
  },
  {
   "cell_type": "code",
   "execution_count": null,
   "id": "bb4108ae",
   "metadata": {},
   "outputs": [],
   "source": []
  }
 ],
 "metadata": {
  "kernelspec": {
   "display_name": "intro",
   "language": "python",
   "name": "intro"
  },
  "language_info": {
   "codemirror_mode": {
    "name": "ipython",
    "version": 3
   },
   "file_extension": ".py",
   "mimetype": "text/x-python",
   "name": "python",
   "nbconvert_exporter": "python",
   "pygments_lexer": "ipython3",
   "version": "3.9.7"
  }
 },
 "nbformat": 4,
 "nbformat_minor": 5
}
