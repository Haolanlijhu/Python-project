{
 "cells": [
  {
   "cell_type": "markdown",
   "id": "b82af32e",
   "metadata": {},
   "source": [
    "# Arrays with `numpy`\n",
    "\n",
    "- `numpy` (or NumPy), stands for Numerical Python\n",
    "    + An open-source, linear algebra/numeric computing library considered the \"universal standard\" for numerical data in Python\n",
    "    + At the core of the entirety of the scientific Python and PyData ecosystems\n",
    "    + Provides the building blocks upon which a number of other libraries are built\n",
    "        - Pandas\n",
    "        - SciPy\n",
    "        - Matplotlib\n",
    "        - scikit-learn\n",
    "        - statsmodels\n",
    "- What `numpy` gives us are _arrays_ and _matrices_, which we likely took for granted in R\n",
    "    + The **ndarray** structure gives us access to array and matrix data structures and tons of methods for performing standard linear algebra calculations\n",
    "    + Additionally, things will be _vectorized_ again\n",
    "- Worth noting - `numpy` is _fast_\n",
    "    + Built on C; faster and more efficient than Python lists\n",
    "    + Also less memory-hungry, and more convenient for our use-cases as econometricians\n",
    "- install `numpy` with `conda install numpy` in the terminal or Anaconda prompt\n",
    "\n",
    "## `numpy` Practice\n",
    "\n",
    "#### Import `numpy`"
   ]
  },
  {
   "cell_type": "code",
   "execution_count": 1,
   "id": "d30a0017",
   "metadata": {},
   "outputs": [],
   "source": [
    "import numpy as np"
   ]
  },
  {
   "cell_type": "markdown",
   "id": "7ff6934d",
   "metadata": {},
   "source": [
    "#### Create a 1-D array of 20 0's"
   ]
  },
  {
   "cell_type": "code",
   "execution_count": 2,
   "id": "77afc3c9",
   "metadata": {},
   "outputs": [
    {
     "data": {
      "text/plain": [
       "array([0., 0., 0., 0., 0., 0., 0., 0., 0., 0., 0., 0., 0., 0., 0., 0., 0.,\n",
       "       0., 0., 0.])"
      ]
     },
     "execution_count": 2,
     "metadata": {},
     "output_type": "execute_result"
    }
   ],
   "source": [
    "np.zeros(20)"
   ]
  },
  {
   "cell_type": "markdown",
   "id": "268a2feb",
   "metadata": {},
   "source": [
    "#### Create a 1-D array of the integers 1 to 20"
   ]
  },
  {
   "cell_type": "code",
   "execution_count": 4,
   "id": "6b918729",
   "metadata": {},
   "outputs": [
    {
     "data": {
      "text/plain": [
       "array([ 1,  2,  3,  4,  5,  6,  7,  8,  9, 10, 11, 12, 13, 14, 15, 16, 17,\n",
       "       18, 19])"
      ]
     },
     "execution_count": 4,
     "metadata": {},
     "output_type": "execute_result"
    }
   ],
   "source": [
    "np.arange(1,20)"
   ]
  },
  {
   "cell_type": "markdown",
   "id": "90485ddf",
   "metadata": {},
   "source": [
    "#### Create a 1-D array of the integers 0 to 20, counting by 5"
   ]
  },
  {
   "cell_type": "code",
   "execution_count": 5,
   "id": "4aafdfb6",
   "metadata": {},
   "outputs": [
    {
     "data": {
      "text/plain": [
       "array([ 0,  5, 10, 15])"
      ]
     },
     "execution_count": 5,
     "metadata": {},
     "output_type": "execute_result"
    }
   ],
   "source": [
    "np.arange(0,20,5)"
   ]
  },
  {
   "cell_type": "markdown",
   "id": "b2672b01",
   "metadata": {},
   "source": [
    "#### Create a 4x4 2-D array (matrix) of the numbers 0 to 15"
   ]
  },
  {
   "cell_type": "code",
   "execution_count": 7,
   "id": "374c4aa4",
   "metadata": {},
   "outputs": [
    {
     "data": {
      "text/plain": [
       "array([[ 0,  1,  2,  3],\n",
       "       [ 4,  5,  6,  7],\n",
       "       [ 8,  9, 10, 11],\n",
       "       [12, 13, 14, 15]])"
      ]
     },
     "execution_count": 7,
     "metadata": {},
     "output_type": "execute_result"
    }
   ],
   "source": [
    "np.array(\n",
    "    [\n",
    "        [0,1,2,3],\n",
    "        [4,5,6,7],\n",
    "        [8,9,10,11],\n",
    "        [12,13,14,15]\n",
    "    ]\n",
    ")"
   ]
  },
  {
   "cell_type": "markdown",
   "id": "04afe29d",
   "metadata": {},
   "source": [
    "#### Create a 3x3 2-D array (matrix) of randomly selected numbers"
   ]
  },
  {
   "cell_type": "code",
   "execution_count": 8,
   "id": "6f1e7d3d",
   "metadata": {},
   "outputs": [
    {
     "data": {
      "text/plain": [
       "array([[ 0.62253459, -0.80534983, -0.33074739],\n",
       "       [-1.88033255, -1.6237748 ,  1.0898316 ],\n",
       "       [ 0.11509213, -0.28271394, -1.22148106]])"
      ]
     },
     "execution_count": 8,
     "metadata": {},
     "output_type": "execute_result"
    }
   ],
   "source": [
    "np.random.randn(9).reshape((3,3))"
   ]
  },
  {
   "cell_type": "markdown",
   "id": "bd7e3f2a",
   "metadata": {},
   "source": [
    "#### Create the following"
   ]
  },
  {
   "cell_type": "code",
   "execution_count": 9,
   "id": "e312bc9c",
   "metadata": {},
   "outputs": [
    {
     "data": {
      "text/plain": [
       "array([[0.   , 0.125, 0.25 ],\n",
       "       [0.375, 0.5  , 0.625],\n",
       "       [0.75 , 0.875, 1.   ]])"
      ]
     },
     "execution_count": 9,
     "metadata": {},
     "output_type": "execute_result"
    }
   ],
   "source": [
    "np.linspace(0,1,9).reshape((3,3))"
   ]
  },
  {
   "cell_type": "markdown",
   "id": "6e96f6aa",
   "metadata": {},
   "source": [
    "#### Given the following array, reproduce the output of the following cells"
   ]
  },
  {
   "cell_type": "code",
   "execution_count": 10,
   "id": "7f0da54c",
   "metadata": {},
   "outputs": [
    {
     "data": {
      "text/plain": [
       "array([[64, 92, 97, 72],\n",
       "       [97, 91, 31, 89],\n",
       "       [51, 16,  8,  8],\n",
       "       [48, 69, 66, 11],\n",
       "       [11, 21, 87, 50]])"
      ]
     },
     "execution_count": 10,
     "metadata": {},
     "output_type": "execute_result"
    }
   ],
   "source": [
    "np.random.seed(999)\n",
    "matrix = np.random.randint(0, 100, size=20).reshape((5,4))\n",
    "matrix"
   ]
  },
  {
   "cell_type": "code",
   "execution_count": 11,
   "id": "c7acfeb6",
   "metadata": {},
   "outputs": [
    {
     "data": {
      "text/plain": [
       "50"
      ]
     },
     "execution_count": 11,
     "metadata": {},
     "output_type": "execute_result"
    }
   ],
   "source": [
    "matrix[4,3]"
   ]
  },
  {
   "cell_type": "code",
   "execution_count": 12,
   "id": "4735d9fe",
   "metadata": {},
   "outputs": [
    {
     "data": {
      "text/plain": [
       "array([48, 69, 66, 11])"
      ]
     },
     "execution_count": 12,
     "metadata": {},
     "output_type": "execute_result"
    }
   ],
   "source": [
    "matrix[3,]"
   ]
  },
  {
   "cell_type": "code",
   "execution_count": 13,
   "id": "c65616b5",
   "metadata": {},
   "outputs": [
    {
     "data": {
      "text/plain": [
       "array([97, 31,  8, 66, 87])"
      ]
     },
     "execution_count": 13,
     "metadata": {},
     "output_type": "execute_result"
    }
   ],
   "source": [
    "matrix[:,2]"
   ]
  },
  {
   "cell_type": "code",
   "execution_count": 14,
   "id": "56559163",
   "metadata": {},
   "outputs": [
    {
     "data": {
      "text/plain": [
       "array([[92, 97, 72],\n",
       "       [91, 31, 89],\n",
       "       [16,  8,  8]])"
      ]
     },
     "execution_count": 14,
     "metadata": {},
     "output_type": "execute_result"
    }
   ],
   "source": [
    "matrix[0:3,1:4]"
   ]
  },
  {
   "cell_type": "code",
   "execution_count": 15,
   "id": "f08d4b06",
   "metadata": {},
   "outputs": [
    {
     "data": {
      "text/plain": [
       "array([[64],\n",
       "       [97],\n",
       "       [51],\n",
       "       [48],\n",
       "       [11]])"
      ]
     },
     "execution_count": 15,
     "metadata": {},
     "output_type": "execute_result"
    }
   ],
   "source": [
    "matrix[:,0].reshape(5,1)"
   ]
  },
  {
   "cell_type": "markdown",
   "id": "8d9a9fc8",
   "metadata": {},
   "source": [
    "#### How many unique values are in this matrix?"
   ]
  },
  {
   "cell_type": "code",
   "execution_count": 16,
   "id": "f7d1c0c5",
   "metadata": {},
   "outputs": [
    {
     "data": {
      "text/plain": [
       "array([ 8, 11, 16, 21, 31, 48, 50, 51, 64, 66, 69, 72, 87, 89, 91, 92, 97])"
      ]
     },
     "execution_count": 16,
     "metadata": {},
     "output_type": "execute_result"
    }
   ],
   "source": [
    "np.unique(matrix)"
   ]
  },
  {
   "cell_type": "markdown",
   "id": "921bb8d6",
   "metadata": {},
   "source": [
    "#### Take the square root of the 4th column"
   ]
  },
  {
   "cell_type": "code",
   "execution_count": 17,
   "id": "5caa264e",
   "metadata": {},
   "outputs": [
    {
     "data": {
      "text/plain": [
       "array([8.48528137, 9.43398113, 2.82842712, 3.31662479, 7.07106781])"
      ]
     },
     "execution_count": 17,
     "metadata": {},
     "output_type": "execute_result"
    }
   ],
   "source": [
    "np.sqrt(matrix[:,3])"
   ]
  },
  {
   "cell_type": "markdown",
   "id": "4369a893",
   "metadata": {},
   "source": [
    "#### Create two separate arrays from this matrix\n",
    "- One should be 5x2, containing the values of the first two columns of `matrix`\n",
    "- The second should also be 5x2, containing the values of the _second_ two columns of `matrix`\n",
    "- Add these together\n",
    "- Find the log of the 1st and 2nd column of the resulting array, separately"
   ]
  },
  {
   "cell_type": "code",
   "execution_count": 18,
   "id": "df9801a3",
   "metadata": {},
   "outputs": [
    {
     "data": {
      "text/plain": [
       "array([[64, 92],\n",
       "       [97, 91],\n",
       "       [51, 16],\n",
       "       [48, 69],\n",
       "       [11, 21]])"
      ]
     },
     "execution_count": 18,
     "metadata": {},
     "output_type": "execute_result"
    }
   ],
   "source": [
    "mat1 = matrix[:, 0:2]\n",
    "mat1"
   ]
  },
  {
   "cell_type": "code",
   "execution_count": 19,
   "id": "03607dba-6b3b-4366-93cb-9d2166ef3687",
   "metadata": {},
   "outputs": [
    {
     "data": {
      "text/plain": [
       "array([[97, 72],\n",
       "       [31, 89],\n",
       "       [ 8,  8],\n",
       "       [66, 11],\n",
       "       [87, 50]])"
      ]
     },
     "execution_count": 19,
     "metadata": {},
     "output_type": "execute_result"
    }
   ],
   "source": [
    "mat2 = matrix[:, 2:]\n",
    "mat2"
   ]
  },
  {
   "cell_type": "code",
   "execution_count": 20,
   "id": "7a85877d-e869-4786-a348-46120238ecac",
   "metadata": {},
   "outputs": [
    {
     "data": {
      "text/plain": [
       "array([[161, 164],\n",
       "       [128, 180],\n",
       "       [ 59,  24],\n",
       "       [114,  80],\n",
       "       [ 98,  71]])"
      ]
     },
     "execution_count": 20,
     "metadata": {},
     "output_type": "execute_result"
    }
   ],
   "source": [
    "mat3 = mat1 + mat2\n",
    "mat3"
   ]
  },
  {
   "cell_type": "code",
   "execution_count": 21,
   "id": "6579374f-47cf-4f8d-8611-530ca117c43b",
   "metadata": {},
   "outputs": [
    {
     "data": {
      "text/plain": [
       "array([5.08140436, 4.85203026, 4.07753744, 4.73619845, 4.58496748])"
      ]
     },
     "execution_count": 21,
     "metadata": {},
     "output_type": "execute_result"
    }
   ],
   "source": [
    "np.log(mat3[:,0])"
   ]
  },
  {
   "cell_type": "code",
   "execution_count": 22,
   "id": "8fffc80b-c5a5-4177-8f2f-7b38258f0011",
   "metadata": {},
   "outputs": [
    {
     "data": {
      "text/plain": [
       "array([5.09986643, 5.19295685, 3.17805383, 4.38202663, 4.26267988])"
      ]
     },
     "execution_count": 22,
     "metadata": {},
     "output_type": "execute_result"
    }
   ],
   "source": [
    "np.log(mat3[:,1])"
   ]
  },
  {
   "cell_type": "code",
   "execution_count": null,
   "id": "f9165cd2-5654-41ac-8c1e-cf68d90ab1f3",
   "metadata": {},
   "outputs": [],
   "source": []
  }
 ],
 "metadata": {
  "kernelspec": {
   "display_name": "intro",
   "language": "python",
   "name": "intro"
  },
  "language_info": {
   "codemirror_mode": {
    "name": "ipython",
    "version": 3
   },
   "file_extension": ".py",
   "mimetype": "text/x-python",
   "name": "python",
   "nbconvert_exporter": "python",
   "pygments_lexer": "ipython3",
   "version": "3.9.7"
  }
 },
 "nbformat": 4,
 "nbformat_minor": 5
}
